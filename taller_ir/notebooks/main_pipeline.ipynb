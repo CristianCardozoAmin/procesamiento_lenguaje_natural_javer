{
 "cells": [
  {
   "cell_type": "markdown",
   "id": "8cb82242",
   "metadata": {},
   "source": [
    "# Taller de Procesamiento de Lenguaje Natural: Recuperación de Información Aplicada a Entrevistas y Libros de la Comisión de la Verdad"
   ]
  },
  {
   "cell_type": "markdown",
   "id": "c9426d14",
   "metadata": {},
   "source": [
    "**Autores**  \n",
    "- **Juan Aponte Duque**  \n",
    "  Pontificia Universidad Javeriana  \n",
    "  [aponte.juan@javeriana.edu.co](mailto:aponte.juan@javeriana.edu.co)\n",
    "\n",
    "- **Cristian Cardozo Amin**  \n",
    "  Pontificia Universidad Javeriana  \n",
    "  [cristiancardozo@javeriana.edu.co](mailto:cristiancardozo@javeriana.edu.co)\n",
    "\n",
    "- **Benkos Triana Ocampo**  \n",
    "  Pontificia Universidad Javeriana  \n",
    "  [b.triana@javeriana.edu.co](mailto:b.triana@javeriana.edu.co)\n"
   ]
  },
  {
   "cell_type": "markdown",
   "id": "7eb68b5d",
   "metadata": {},
   "source": [
    "## Objetivo \n",
    "Desarrollar  un  proceso  de  Recuperación  de  Información  (IR)  para  determinar  qué entrevistas  contenidas  en  el  documento  JSON  están  relacionadas  con testimonios  o  secciones de los libros de la Comisión de la Verdad (CEV). Se espera que los estudiantes  apliquen técnicas de procesamiento de lenguaje natural para analizar y  relacionar  las narraciones  de  entrevistas  con  textos  específicos  de  los  libros,  utilizando  métricas específicas para medir la relevancia de los resultados."
   ]
  },
  {
   "cell_type": "markdown",
   "id": "4fe726ae",
   "metadata": {},
   "source": [
    "## Recursos:\n",
    "- **Libros de la Comisión de la Verdad (CEV)**:\n",
    "\n",
    "[https://drive.google.com/drive/folders/1W9UOdkqnAcztnFZ8xresW4ZeZ2pqXe4v?usp=sharing]\n",
    "- **Entrevistas**:\n",
    "\n",
    "[https://drive.google.com/file/d/1XeFS_mQFmTLQ_VUiODTBO5eONWv-Ege5/view?usp=sharing]\n",
    "\n",
    "- **Tesauro CEV**:\n",
    "\n",
    "[https://drive.google.com/file/d/1XgZzMtFQp0RzwqdY7Em5q5ProsWLMMX4/view?usp=sharing]"
   ]
  },
  {
   "cell_type": "markdown",
   "id": "88ecfc2b",
   "metadata": {},
   "source": [
    "## Dependecias"
   ]
  },
  {
   "cell_type": "code",
   "execution_count": 1,
   "id": "1e9cd305",
   "metadata": {},
   "outputs": [
    {
     "name": "stdout",
     "output_type": "stream",
     "text": [
      "INFO: Pandarallel will run on 8 workers.\n",
      "INFO: Pandarallel will use standard multiprocessing data transfer (pipe) to transfer data between the main process and workers.\n",
      "\n",
      "WARNING: You are on Windows. If you detect any issue with pandarallel, be sure you checked out the Troubleshooting page:\n",
      "https://nalepae.github.io/pandarallel/troubleshooting/\n"
     ]
    }
   ],
   "source": [
    "import pandas as pd\n",
    "import sys\n",
    "from pandarallel import pandarallel\n",
    "\n",
    "# Inicializar pandarallel\n",
    "pandarallel.initialize(progress_bar=True)\n",
    "sys.path.append(\"../src\")\n",
    "from funciones_nlp import *\n",
    "from funciones_pdf import *\n",
    "from funciones_json import *"
   ]
  },
  {
   "cell_type": "markdown",
   "id": "1c7b55a7",
   "metadata": {},
   "source": [
    "## Extracción y Preparación del Corpus"
   ]
  },
  {
   "cell_type": "markdown",
   "id": "cdc90296",
   "metadata": {
    "vscode": {
     "languageId": "plaintext"
    }
   },
   "source": [
    "### Extraer las secciones, testimonios o partes relevantes de cada uno de los libros de la CEV."
   ]
  },
  {
   "cell_type": "markdown",
   "id": "16feb5c0",
   "metadata": {},
   "source": [
    "#### Extraccion Libro \"MI CUERPO ES LA VERDAD\""
   ]
  },
  {
   "cell_type": "code",
   "execution_count": 2,
   "id": "7ef66b2c",
   "metadata": {},
   "outputs": [
    {
     "name": "stdout",
     "output_type": "stream",
     "text": [
      "(21, 4)\n"
     ]
    },
    {
     "data": {
      "text/html": [
       "<div>\n",
       "<style scoped>\n",
       "    .dataframe tbody tr th:only-of-type {\n",
       "        vertical-align: middle;\n",
       "    }\n",
       "\n",
       "    .dataframe tbody tr th {\n",
       "        vertical-align: top;\n",
       "    }\n",
       "\n",
       "    .dataframe thead th {\n",
       "        text-align: right;\n",
       "    }\n",
       "</style>\n",
       "<table border=\"1\" class=\"dataframe\">\n",
       "  <thead>\n",
       "    <tr style=\"text-align: right;\">\n",
       "      <th></th>\n",
       "      <th>seccion</th>\n",
       "      <th>seccion_principal</th>\n",
       "      <th>subseccion</th>\n",
       "      <th>contenido</th>\n",
       "    </tr>\n",
       "  </thead>\n",
       "  <tbody>\n",
       "    <tr>\n",
       "      <th>0</th>\n",
       "      <td>Mujeres</td>\n",
       "      <td>¿Qué pasó? Significados y  magnitudes de lo su...</td>\n",
       "      <td>La guerra, el territorio y las mujeres</td>\n",
       "      <td>Las mujeres viven la guerra en sus territorios...</td>\n",
       "    </tr>\n",
       "    <tr>\n",
       "      <th>1</th>\n",
       "      <td>Mujeres</td>\n",
       "      <td>¿Qué pasó? Significados y  magnitudes de lo su...</td>\n",
       "      <td>Las violencias sexuales y reproductivas contra...</td>\n",
       "      <td>Duele la lengua rota. \\n¿Dónde está mi femenin...</td>\n",
       "    </tr>\n",
       "    <tr>\n",
       "      <th>2</th>\n",
       "      <td>Mujeres</td>\n",
       "      <td>¿Qué pasó? Significados y  magnitudes de lo su...</td>\n",
       "      <td>Mujeres políticas expulsadas de la democracia</td>\n",
       "      <td>».\\n\\n¿qué pasó? significados y magnitudes de ...</td>\n",
       "    </tr>\n",
       "  </tbody>\n",
       "</table>\n",
       "</div>"
      ],
      "text/plain": [
       "   seccion                                  seccion_principal  \\\n",
       "0  Mujeres  ¿Qué pasó? Significados y  magnitudes de lo su...   \n",
       "1  Mujeres  ¿Qué pasó? Significados y  magnitudes de lo su...   \n",
       "2  Mujeres  ¿Qué pasó? Significados y  magnitudes de lo su...   \n",
       "\n",
       "                                          subseccion  \\\n",
       "0             La guerra, el territorio y las mujeres   \n",
       "1  Las violencias sexuales y reproductivas contra...   \n",
       "2      Mujeres políticas expulsadas de la democracia   \n",
       "\n",
       "                                           contenido  \n",
       "0  Las mujeres viven la guerra en sus territorios...  \n",
       "1  Duele la lengua rota. \\n¿Dónde está mi femenin...  \n",
       "2  ».\\n\\n¿qué pasó? significados y magnitudes de ...  "
      ]
     },
     "execution_count": 2,
     "metadata": {},
     "output_type": "execute_result"
    }
   ],
   "source": [
    "# Ruta del archivo PDF del libro de la CEV\n",
    "pdf_path = \"../data/input/CEV_MI CUERPO ES LA VERDAD_DIGITAL_2022.pdf\"\n",
    "\n",
    "# Página inicial para comenzar la extracción \n",
    "START_AFTER_PAGE_1BASED = 37  \n",
    "\n",
    "# Definición de la estructura del libro para la extracción\n",
    "schema = {\n",
    "    \"Mujeres\": {\n",
    "        \"¿Qué pasó? Significados y  magnitudes de lo sucedido\": [\n",
    "            \"La guerra, el territorio y las mujeres\",\n",
    "            \"Las violencias sexuales y reproductivas contra niñas y mujeres\",\n",
    "            \"Mujeres políticas expulsadas de la democracia\",\n",
    "            \"Las mujeres en la guerra: vinculación e impactos en sus vidas y en sus familias\",\n",
    "        ],\n",
    "        \"¿Por qué pasó? Dimensiones del patriarcado\": [\n",
    "            \"El contínuum de violencias, una realidad que cambia pero no desaparece\",\n",
    "            \"El mandato de las masculinidades guerreras y su relación con el militarismo\",\n",
    "            \"La desprotección por parte del Estado en zonas de conflicto\",\n",
    "        ],\n",
    "        \"¿Qué pasó con lo que pasó?\": [\n",
    "            \"Impactos del conflicto armado en las mujeres\",\n",
    "            \"Afrontamientos de las mujeres víctimas\",\n",
    "            \"Resistencias, juntanza y organización: en las mujeres reposa la fuerza de la comunidad\",\n",
    "        ],\n",
    "        \"_end_before\": \"Epílogo\",\n",
    "        \"_boundaries\": [\n",
    "            \"¿Por qué pasó? Dimensiones del patriarcado\",\n",
    "            \"¿Qué pasó con lo que pasó?\",\n",
    "        ],\n",
    "    },\n",
    "    \"LGBTIQ+\": {\n",
    "        \"¿Qué pasó? Violencias contra las personas LGBTIQ+ en el marco del conflicto armado colombiano\": [\n",
    "            \"Una mirada general a las violencias contra las personas LGBTIQ+ en la guerra\",\n",
    "            \"Situaciones territoriales ilustrativas de la persecución contra personas LGBTIQ+ en el marco del conflicto armado\",\n",
    "            \"La persecución contra personas LGBTIQ+ en el conflicto armado colombiano\",\n",
    "            \"Patrones de persecución contra las personas LGBTIQ+ diferenciados según el actor armado\",\n",
    "            \"Otras consideraciones\",\n",
    "        ],\n",
    "        \"Los porqués de la persecución contra personas LGBTIQ+\": [\n",
    "            \"La herencia colonial como un factor histórico explicativo\",\n",
    "            \"Factores socioculturales\",\n",
    "            \"Factores institucionales y políticos\",\n",
    "        ],\n",
    "        \"¿Qué pasó con lo que les pasó a las personas LGBTIQ+ en el marco del conflicto armado colombiano?\": [\n",
    "            \"Impactos de las violencias contra personas LGBTIQ+\",\n",
    "            \"Afrontamientos de personas LGBTIQ+ víctimas del conflicto armado en Colombia\",\n",
    "            \"Cuerpos disidentes que resisten y transforman para la paz\",\n",
    "        ],\n",
    "        \"_end_before\": \"Conclusiones\",\n",
    "        \"_boundaries\": [\n",
    "            \"Los porqués de la persecución contra personas LGBTIQ+\",\n",
    "            \"¿Qué pasó con lo que les pasó a las personas LGBTIQ+ en el marco del conflicto armado colombiano?\",\n",
    "        ],\n",
    "    },\n",
    "}\n",
    "\n",
    "# Función para extraer el DataFrame del PDF según el esquema definido\n",
    "df_result = extract_dataframe_from_pdf(pdf_path, START_AFTER_PAGE_1BASED, schema, drop_empty=False)\n",
    "print(df_result.shape)\n",
    "df_result.head(3)"
   ]
  },
  {
   "cell_type": "markdown",
   "id": "4d837e38",
   "metadata": {},
   "source": [
    "#### Extraccion entrevistas de la comision de la verdad"
   ]
  },
  {
   "cell_type": "code",
   "execution_count": 2,
   "id": "83b2a81f",
   "metadata": {},
   "outputs": [
    {
     "name": "stdout",
     "output_type": "stream",
     "text": [
      "Entrevistas vacías detectadas: 2\n",
      "Se encontraron 268 entrevistas duplicadas.\n",
      "(2216, 4)\n"
     ]
    },
    {
     "data": {
      "text/html": [
       "<div>\n",
       "<style scoped>\n",
       "    .dataframe tbody tr th:only-of-type {\n",
       "        vertical-align: middle;\n",
       "    }\n",
       "\n",
       "    .dataframe tbody tr th {\n",
       "        vertical-align: top;\n",
       "    }\n",
       "\n",
       "    .dataframe thead th {\n",
       "        text-align: right;\n",
       "    }\n",
       "</style>\n",
       "<table border=\"1\" class=\"dataframe\">\n",
       "  <thead>\n",
       "    <tr style=\"text-align: right;\">\n",
       "      <th></th>\n",
       "      <th>id_doc</th>\n",
       "      <th>pages</th>\n",
       "      <th>text</th>\n",
       "      <th>text_clean</th>\n",
       "    </tr>\n",
       "  </thead>\n",
       "  <tbody>\n",
       "    <tr>\n",
       "      <th>0</th>\n",
       "      <td>5eb4e7bfda6da3b502da3589.pdf</td>\n",
       "      <td>30</td>\n",
       "      <td>001-VI-00008\\nTEST:  Bajo la apariencia de una...</td>\n",
       "      <td>bajo la apariencia de una democracia formal en...</td>\n",
       "    </tr>\n",
       "    <tr>\n",
       "      <th>1</th>\n",
       "      <td>5eb4e7c1da6da3b502da3593.pdf</td>\n",
       "      <td>15</td>\n",
       "      <td>ENT:\\nBueno, hoy es --------------------------...</td>\n",
       "      <td>sí con mucho gusto mi nombre es test nací en e...</td>\n",
       "    </tr>\n",
       "    <tr>\n",
       "      <th>2</th>\n",
       "      <td>5eb4e7c1da6da3b502da3595.pdf</td>\n",
       "      <td>38</td>\n",
       "      <td>001-VI-00011\\n \\n001-VI-00011_(48057):  01:30:...</td>\n",
       "      <td>buenas tardes gracias con mucho gusto con much...</td>\n",
       "    </tr>\n",
       "  </tbody>\n",
       "</table>\n",
       "</div>"
      ],
      "text/plain": [
       "                         id_doc  pages  \\\n",
       "0  5eb4e7bfda6da3b502da3589.pdf     30   \n",
       "1  5eb4e7c1da6da3b502da3593.pdf     15   \n",
       "2  5eb4e7c1da6da3b502da3595.pdf     38   \n",
       "\n",
       "                                                text  \\\n",
       "0  001-VI-00008\\nTEST:  Bajo la apariencia de una...   \n",
       "1  ENT:\\nBueno, hoy es --------------------------...   \n",
       "2  001-VI-00011\\n \\n001-VI-00011_(48057):  01:30:...   \n",
       "\n",
       "                                          text_clean  \n",
       "0  bajo la apariencia de una democracia formal en...  \n",
       "1  sí con mucho gusto mi nombre es test nací en e...  \n",
       "2  buenas tardes gracias con mucho gusto con much...  "
      ]
     },
     "execution_count": 2,
     "metadata": {},
     "output_type": "execute_result"
    }
   ],
   "source": [
    "json_path = \"../data/input/entrevistas_all_2023-03-21_14-24_05.json\"  \n",
    "columna = 'text'\n",
    "workers = 6\n",
    "\n",
    "df_testimonios = procesar_json(json_path, columna, workers)\n",
    "\n",
    "print(df_testimonios.shape)\n",
    "df_testimonios.head(3)"
   ]
  },
  {
   "cell_type": "markdown",
   "id": "b4a68572",
   "metadata": {},
   "source": [
    "### Definir la morfología de documento para recuperar"
   ]
  },
  {
   "cell_type": "markdown",
   "id": "5722562f",
   "metadata": {},
   "source": [
    "#### Morfología del libro \"MI CUERPO ES LA VERDAD\""
   ]
  },
  {
   "cell_type": "code",
   "execution_count": 6,
   "id": "1f1bd3aa",
   "metadata": {},
   "outputs": [
    {
     "name": "stdout",
     "output_type": "stream",
     "text": [
      "Las mujeres viven la guerra en sus territorios, en su vida y en su cuerpo. Esto es verdad \n",
      "para cualquier persona que haya sido afectada por el conflicto. Sin embargo, la relación \n",
      "de las mujeres con el territorio y con la guerra es diferente de la que viven los hombres, \n",
      "o los niños, o cualquier otro grupo poblacional. Las mujeres en los territorios son las \n",
      "encargadas de las labores de reproducción y de cuidado del hogar, la familia, lo comunitario y lo social; por ello, suelen permanecer en l\n"
     ]
    }
   ],
   "source": [
    "contenido_mi_verdad = \" \".join(df_result[\"contenido\"].astype(str))\n",
    "print(contenido_mi_verdad[:500])"
   ]
  },
  {
   "cell_type": "code",
   "execution_count": 5,
   "id": "6ff1c9d9",
   "metadata": {},
   "outputs": [
    {
     "data": {
      "text/plain": [
       "{'original': {'oraciones': 6633,\n",
       "  'cantidad_palabras': 142272,\n",
       "  'cantidad_palabras_sin_stopwords': 59550,\n",
       "  'promedio_palabras_por_oracion': 21.44911804613297,\n",
       "  'promedio_verbos_por_oracion': 3.103271521181969,\n",
       "  'promedio_sustantivos_por_oracion': 5.7975275139454245,\n",
       "  'promedio_adjetivos_por_oracion': 1.4483642394090155,\n",
       "  'promedio_pronombres_por_oracion': 1.8309965324890698,\n",
       "  'promedio_adverbios_por_oracion': 0.8181818181818182,\n",
       "  'promedio_stopwords_por_oracion': 12.471279963817278,\n",
       "  'total_verbos': 20584,\n",
       "  'total_sustantivos': 38455,\n",
       "  'total_adjetivos': 9607,\n",
       "  'total_pronombres': 12145,\n",
       "  'total_adverbios': 5427,\n",
       "  'total_stopwords': 82722},\n",
       " 'sin_stopwords': {'oraciones': 6633,\n",
       "  'cantidad_palabras': 59550,\n",
       "  'cantidad_palabras_sin_stopwords': 59550,\n",
       "  'promedio_palabras_por_oracion': 8.977838082315694,\n",
       "  'promedio_verbos_por_oracion': 2.052314186642545,\n",
       "  'promedio_sustantivos_por_oracion': 5.443992160410071,\n",
       "  'promedio_adjetivos_por_oracion': 1.3259460274385648,\n",
       "  'promedio_pronombres_por_oracion': 0.01115633951454847,\n",
       "  'promedio_adverbios_por_oracion': 0.09905020352781546,\n",
       "  'promedio_stopwords_por_oracion': 0.0,\n",
       "  'total_verbos': 13613,\n",
       "  'total_sustantivos': 36110,\n",
       "  'total_adjetivos': 8795,\n",
       "  'total_pronombres': 74,\n",
       "  'total_adverbios': 657,\n",
       "  'total_stopwords': 0}}"
      ]
     },
     "execution_count": 5,
     "metadata": {},
     "output_type": "execute_result"
    }
   ],
   "source": [
    "morfologia_texto(contenido_mi_verdad)"
   ]
  },
  {
   "cell_type": "markdown",
   "id": "202dc2f3",
   "metadata": {},
   "source": [
    "#### Morfología testimonios"
   ]
  },
  {
   "cell_type": "code",
   "execution_count": 3,
   "id": "f9767f81",
   "metadata": {},
   "outputs": [
    {
     "name": "stdout",
     "output_type": "stream",
     "text": [
      "bajo la apariencia de una democracia formal en colombia se vivía un régimen de terror servicios de inteligencia estatales estamos hablando ya a partir de 1985 entonces te decía que servicios de inteligencia oficiales estructuras de las fuerzas militares y de policía y del organización pública 1 se entrelazaban con grupos paramilitares de extrema derecha en desarrollo de una estrategia de contrainsurgencia aparejada con una guerra sucia de liquidación y exterminio del movimiento popular colombian\n"
     ]
    }
   ],
   "source": [
    "contenido_testimonios = \" \".join(df_testimonios[\"text_clean\"].astype(str))\n",
    "print(contenido_testimonios[:500])"
   ]
  },
  {
   "cell_type": "code",
   "execution_count": null,
   "id": "24d110dd",
   "metadata": {},
   "outputs": [],
   "source": [
    "morfologia_texto(contenido_testimonios)"
   ]
  },
  {
   "cell_type": "markdown",
   "id": "27d46cd9",
   "metadata": {},
   "source": [
    "### Preprocesar los textos"
   ]
  },
  {
   "cell_type": "markdown",
   "id": "8f1460d3",
   "metadata": {},
   "source": [
    "#### Preprocesar libro"
   ]
  },
  {
   "cell_type": "code",
   "execution_count": 15,
   "id": "75b233c3",
   "metadata": {},
   "outputs": [
    {
     "data": {
      "application/vnd.jupyter.widget-view+json": {
       "model_id": "e79c8595c06e45c3ba4b6c5598dbd905",
       "version_major": 2,
       "version_minor": 0
      },
      "text/plain": [
       "VBox(children=(HBox(children=(IntProgress(value=0, description='0.00%', max=3), Label(value='0 / 3'))), HBox(c…"
      ]
     },
     "metadata": {},
     "output_type": "display_data"
    }
   ],
   "source": [
    "df_result[\"contenido_preprocesado\"] = df_result[\"contenido\"].parallel_apply(preprocesar_texto)"
   ]
  },
  {
   "cell_type": "code",
   "execution_count": 17,
   "id": "a6a59e5d",
   "metadata": {},
   "outputs": [
    {
     "data": {
      "text/html": [
       "<div>\n",
       "<style scoped>\n",
       "    .dataframe tbody tr th:only-of-type {\n",
       "        vertical-align: middle;\n",
       "    }\n",
       "\n",
       "    .dataframe tbody tr th {\n",
       "        vertical-align: top;\n",
       "    }\n",
       "\n",
       "    .dataframe thead th {\n",
       "        text-align: right;\n",
       "    }\n",
       "</style>\n",
       "<table border=\"1\" class=\"dataframe\">\n",
       "  <thead>\n",
       "    <tr style=\"text-align: right;\">\n",
       "      <th></th>\n",
       "      <th>seccion</th>\n",
       "      <th>seccion_principal</th>\n",
       "      <th>subseccion</th>\n",
       "      <th>contenido</th>\n",
       "      <th>contenido_preprocesado</th>\n",
       "    </tr>\n",
       "  </thead>\n",
       "  <tbody>\n",
       "    <tr>\n",
       "      <th>0</th>\n",
       "      <td>Mujeres</td>\n",
       "      <td>¿Qué pasó? Significados y  magnitudes de lo su...</td>\n",
       "      <td>La guerra, el territorio y las mujeres</td>\n",
       "      <td>Las mujeres viven la guerra en sus territorios...</td>\n",
       "      <td>[[mujer, vivir, guerra, territorio, vida, cuer...</td>\n",
       "    </tr>\n",
       "    <tr>\n",
       "      <th>1</th>\n",
       "      <td>Mujeres</td>\n",
       "      <td>¿Qué pasó? Significados y  magnitudes de lo su...</td>\n",
       "      <td>Las violencias sexuales y reproductivas contra...</td>\n",
       "      <td>Duele la lengua rota. \\n¿Dónde está mi femenin...</td>\n",
       "      <td>[[doler, lengua, roto], [femenino], [lengua, s...</td>\n",
       "    </tr>\n",
       "    <tr>\n",
       "      <th>2</th>\n",
       "      <td>Mujeres</td>\n",
       "      <td>¿Qué pasó? Significados y  magnitudes de lo su...</td>\n",
       "      <td>Mujeres políticas expulsadas de la democracia</td>\n",
       "      <td>».\\n\\n¿qué pasó? significados y magnitudes de ...</td>\n",
       "      <td>[[], [pasar, significado, magnitudes, sucedido...</td>\n",
       "    </tr>\n",
       "  </tbody>\n",
       "</table>\n",
       "</div>"
      ],
      "text/plain": [
       "   seccion                                  seccion_principal  \\\n",
       "0  Mujeres  ¿Qué pasó? Significados y  magnitudes de lo su...   \n",
       "1  Mujeres  ¿Qué pasó? Significados y  magnitudes de lo su...   \n",
       "2  Mujeres  ¿Qué pasó? Significados y  magnitudes de lo su...   \n",
       "\n",
       "                                          subseccion  \\\n",
       "0             La guerra, el territorio y las mujeres   \n",
       "1  Las violencias sexuales y reproductivas contra...   \n",
       "2      Mujeres políticas expulsadas de la democracia   \n",
       "\n",
       "                                           contenido  \\\n",
       "0  Las mujeres viven la guerra en sus territorios...   \n",
       "1  Duele la lengua rota. \\n¿Dónde está mi femenin...   \n",
       "2  ».\\n\\n¿qué pasó? significados y magnitudes de ...   \n",
       "\n",
       "                              contenido_preprocesado  \n",
       "0  [[mujer, vivir, guerra, territorio, vida, cuer...  \n",
       "1  [[doler, lengua, roto], [femenino], [lengua, s...  \n",
       "2  [[], [pasar, significado, magnitudes, sucedido...  "
      ]
     },
     "execution_count": 17,
     "metadata": {},
     "output_type": "execute_result"
    }
   ],
   "source": [
    "df_result.head(3)"
   ]
  },
  {
   "cell_type": "code",
   "execution_count": 19,
   "id": "c38f2772",
   "metadata": {},
   "outputs": [],
   "source": [
    "df_result.to_csv(\"../data/output/libro_cev_preprocesado.csv\", index=False, encoding=\"utf-8\", sep=\"|\")"
   ]
  },
  {
   "cell_type": "markdown",
   "id": "b9fde82f",
   "metadata": {},
   "source": [
    "#### Preprocesar testimonios"
   ]
  },
  {
   "cell_type": "code",
   "execution_count": 16,
   "id": "16cdfd65",
   "metadata": {},
   "outputs": [
    {
     "data": {
      "application/vnd.jupyter.widget-view+json": {
       "model_id": "c123352c1e5d4d49bac9931f7491cf0b",
       "version_major": 2,
       "version_minor": 0
      },
      "text/plain": [
       "VBox(children=(HBox(children=(IntProgress(value=0, description='0.00%', max=277), Label(value='0 / 277'))), HB…"
      ]
     },
     "metadata": {},
     "output_type": "display_data"
    }
   ],
   "source": [
    "df_testimonios[\"contenido_preprocesado\"] = df_testimonios[\"text_clean\"].parallel_apply(preprocesar_texto)"
   ]
  },
  {
   "cell_type": "code",
   "execution_count": 18,
   "id": "3b970ce2",
   "metadata": {},
   "outputs": [
    {
     "data": {
      "text/html": [
       "<div>\n",
       "<style scoped>\n",
       "    .dataframe tbody tr th:only-of-type {\n",
       "        vertical-align: middle;\n",
       "    }\n",
       "\n",
       "    .dataframe tbody tr th {\n",
       "        vertical-align: top;\n",
       "    }\n",
       "\n",
       "    .dataframe thead th {\n",
       "        text-align: right;\n",
       "    }\n",
       "</style>\n",
       "<table border=\"1\" class=\"dataframe\">\n",
       "  <thead>\n",
       "    <tr style=\"text-align: right;\">\n",
       "      <th></th>\n",
       "      <th>id_doc</th>\n",
       "      <th>pages</th>\n",
       "      <th>text</th>\n",
       "      <th>text_clean</th>\n",
       "      <th>contenido_preprocesado</th>\n",
       "    </tr>\n",
       "  </thead>\n",
       "  <tbody>\n",
       "    <tr>\n",
       "      <th>0</th>\n",
       "      <td>5eb4e7bfda6da3b502da3589.pdf</td>\n",
       "      <td>30</td>\n",
       "      <td>001-VI-00008\\nTEST:  Bajo la apariencia de una...</td>\n",
       "      <td>bajo la apariencia de una democracia formal en...</td>\n",
       "      <td>[[apariencia, democracia, formal, colombia, vi...</td>\n",
       "    </tr>\n",
       "    <tr>\n",
       "      <th>1</th>\n",
       "      <td>5eb4e7c1da6da3b502da3593.pdf</td>\n",
       "      <td>15</td>\n",
       "      <td>ENT:\\nBueno, hoy es --------------------------...</td>\n",
       "      <td>sí con mucho gusto mi nombre es test nací en e...</td>\n",
       "      <td>[[gusto, nombre, test, nací, estudié, colegio,...</td>\n",
       "    </tr>\n",
       "    <tr>\n",
       "      <th>2</th>\n",
       "      <td>5eb4e7c1da6da3b502da3595.pdf</td>\n",
       "      <td>38</td>\n",
       "      <td>001-VI-00011\\n \\n001-VI-00011_(48057):  01:30:...</td>\n",
       "      <td>buenas tardes gracias con mucho gusto con much...</td>\n",
       "      <td>[[gracia, gusto, gusto, nombre, inicio, vida, ...</td>\n",
       "    </tr>\n",
       "  </tbody>\n",
       "</table>\n",
       "</div>"
      ],
      "text/plain": [
       "                         id_doc  pages  \\\n",
       "0  5eb4e7bfda6da3b502da3589.pdf     30   \n",
       "1  5eb4e7c1da6da3b502da3593.pdf     15   \n",
       "2  5eb4e7c1da6da3b502da3595.pdf     38   \n",
       "\n",
       "                                                text  \\\n",
       "0  001-VI-00008\\nTEST:  Bajo la apariencia de una...   \n",
       "1  ENT:\\nBueno, hoy es --------------------------...   \n",
       "2  001-VI-00011\\n \\n001-VI-00011_(48057):  01:30:...   \n",
       "\n",
       "                                          text_clean  \\\n",
       "0  bajo la apariencia de una democracia formal en...   \n",
       "1  sí con mucho gusto mi nombre es test nací en e...   \n",
       "2  buenas tardes gracias con mucho gusto con much...   \n",
       "\n",
       "                              contenido_preprocesado  \n",
       "0  [[apariencia, democracia, formal, colombia, vi...  \n",
       "1  [[gusto, nombre, test, nací, estudié, colegio,...  \n",
       "2  [[gracia, gusto, gusto, nombre, inicio, vida, ...  "
      ]
     },
     "execution_count": 18,
     "metadata": {},
     "output_type": "execute_result"
    }
   ],
   "source": [
    "df_testimonios.head(3)"
   ]
  },
  {
   "cell_type": "code",
   "execution_count": null,
   "id": "22e216ec",
   "metadata": {},
   "outputs": [],
   "source": [
    "df_testimonios.to_csv(\"../data/output/testimonios_cev_preprocesado.csv\", index=False, encoding=\"utf-8\", sep=\"|\")"
   ]
  }
 ],
 "metadata": {
  "kernelspec": {
   "display_name": "Python 3",
   "language": "python",
   "name": "python3"
  },
  "language_info": {
   "codemirror_mode": {
    "name": "ipython",
    "version": 3
   },
   "file_extension": ".py",
   "mimetype": "text/x-python",
   "name": "python",
   "nbconvert_exporter": "python",
   "pygments_lexer": "ipython3",
   "version": "3.10.6"
  }
 },
 "nbformat": 4,
 "nbformat_minor": 5
}
