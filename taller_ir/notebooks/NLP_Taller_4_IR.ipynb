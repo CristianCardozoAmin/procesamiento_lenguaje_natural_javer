{
 "cells": [
  {
   "cell_type": "markdown",
   "id": "25474c21",
   "metadata": {},
   "source": [
    "# Dependencias"
   ]
  },
  {
   "cell_type": "code",
   "execution_count": 2,
   "id": "cfa0132d",
   "metadata": {},
   "outputs": [],
   "source": [
    "import pandas as pd\n",
    "import json\n",
    "import fitz"
   ]
  },
  {
   "cell_type": "markdown",
   "id": "de10c57b",
   "metadata": {},
   "source": [
    "# 1. Extracción y Preparación del Corpus:"
   ]
  },
  {
   "cell_type": "markdown",
   "id": "9a32572b",
   "metadata": {},
   "source": [
    "## 1.1. Extraer las secciones"
   ]
  },
  {
   "cell_type": "code",
   "execution_count": 3,
   "id": "ecffd1d8",
   "metadata": {},
   "outputs": [
    {
     "data": {
      "text/html": [
       "<div>\n",
       "<style scoped>\n",
       "    .dataframe tbody tr th:only-of-type {\n",
       "        vertical-align: middle;\n",
       "    }\n",
       "\n",
       "    .dataframe tbody tr th {\n",
       "        vertical-align: top;\n",
       "    }\n",
       "\n",
       "    .dataframe thead th {\n",
       "        text-align: right;\n",
       "    }\n",
       "</style>\n",
       "<table border=\"1\" class=\"dataframe\">\n",
       "  <thead>\n",
       "    <tr style=\"text-align: right;\">\n",
       "      <th></th>\n",
       "      <th>id_doc</th>\n",
       "      <th>pages</th>\n",
       "      <th>text</th>\n",
       "    </tr>\n",
       "  </thead>\n",
       "  <tbody>\n",
       "    <tr>\n",
       "      <th>0</th>\n",
       "      <td>5eb4e7bfda6da3b502da3589.pdf</td>\n",
       "      <td>30</td>\n",
       "      <td>001-VI-00008\\nTEST:  Bajo la apariencia de una...</td>\n",
       "    </tr>\n",
       "    <tr>\n",
       "      <th>1</th>\n",
       "      <td>5eb4e7c0da6da3b502da358e.pdf</td>\n",
       "      <td>30</td>\n",
       "      <td>001-VI-00008\\nTEST:  Bajo la apariencia de una...</td>\n",
       "    </tr>\n",
       "    <tr>\n",
       "      <th>2</th>\n",
       "      <td>5eb4e7c1da6da3b502da3593.pdf</td>\n",
       "      <td>15</td>\n",
       "      <td>ENT:\\nBueno, hoy es --------------------------...</td>\n",
       "    </tr>\n",
       "  </tbody>\n",
       "</table>\n",
       "</div>"
      ],
      "text/plain": [
       "                         id_doc  pages  \\\n",
       "0  5eb4e7bfda6da3b502da3589.pdf     30   \n",
       "1  5eb4e7c0da6da3b502da358e.pdf     30   \n",
       "2  5eb4e7c1da6da3b502da3593.pdf     15   \n",
       "\n",
       "                                                text  \n",
       "0  001-VI-00008\\nTEST:  Bajo la apariencia de una...  \n",
       "1  001-VI-00008\\nTEST:  Bajo la apariencia de una...  \n",
       "2  ENT:\\nBueno, hoy es --------------------------...  "
      ]
     },
     "execution_count": 3,
     "metadata": {},
     "output_type": "execute_result"
    }
   ],
   "source": [
    "# Cargar datos de los testimonios\n",
    "with open('../data/input/entrevistas_all_2023-03-21_14-24_05.json', 'r') as file:\n",
    "    data = json.load(file)\n",
    "df_testimonios = pd.DataFrame(data)\n",
    "df_testimonios.head(3)"
   ]
  },
  {
   "cell_type": "code",
   "execution_count": 4,
   "id": "cbbb919a",
   "metadata": {},
   "outputs": [
    {
     "data": {
      "text/plain": [
       "(2486, 3)"
      ]
     },
     "execution_count": 4,
     "metadata": {},
     "output_type": "execute_result"
    }
   ],
   "source": [
    "df_testimonios.shape"
   ]
  },
  {
   "cell_type": "code",
   "execution_count": 21,
   "id": "3c27a687",
   "metadata": {},
   "outputs": [],
   "source": [
    "#Leer PDF de la seccion - GRUPO 5 - CEV_MI CUERPO ES LA VERDAD_DIGITAL_2022\n",
    "\n",
    "# desde qué página empezar \n",
    "desde = 29\n",
    "# abrir el PDF\n",
    "with fitz.open('../data/input/CEV_MI CUERPO ES LA VERDAD_DIGITAL_2022.pdf') as doc:\n",
    "    # opcional: validar rango\n",
    "    desde = max(0, min(desde, len(doc)-1))\n",
    "    texto = []\n",
    "    for i in range(desde, len(doc)):\n",
    "        page = doc[i]\n",
    "        texto.append(page.get_text())  \n",
    "    texto_pdf = \"\\n\".join(texto)"
   ]
  },
  {
   "cell_type": "code",
   "execution_count": 22,
   "id": "a7210c27",
   "metadata": {},
   "outputs": [
    {
     "name": "stdout",
     "output_type": "stream",
     "text": [
      "mi cuerpo es la verdad\n",
      "30\n",
      "¿Por qué esta sección acerca  \n",
      "de las mujeres?\n",
      "L\n",
      "a primera sección de este tomo, que retrata lo que les pasó a millones de \n",
      "mujeres en el conflicto armado colombiano, es una invitación a esclarecer la \n",
      "verdad, a reconocerse en lo que ellas vivieron, y en lo que no puede volver a \n",
      "suceder. Con ello se cumple el mandato de la Comisión de la Verdad en lo que con-\n",
      "cierne a «esclarecer y promover el reconocimiento del impacto humano y social del \n",
      "conflicto en la sociedad [...] incluyendo las formas diferenciadas en las que el conflicto \n",
      "afectó a las mujeres»2. Asimismo, es el resultado de la insistencia y persistencia de las \n",
      "organizaciones de mujeres víctimas y feministas, que al unísono proclamaron: «Sin la \n",
      "voz de las mujeres la verdad no está completa». \n",
      "En consecuencia, aquí se muestran los actos intolerables que sufrieron las 10.864 \n",
      "mujeres escuchadas por la Comisión3; algo que como sociedad no debimos permitir. \n",
      "La Comisión creyó en su palabra, dio valor a \n"
     ]
    }
   ],
   "source": [
    "print(texto_pdf[:1000])"
   ]
  },
  {
   "cell_type": "code",
   "execution_count": null,
   "id": "748116c7",
   "metadata": {},
   "outputs": [],
   "source": []
  }
 ],
 "metadata": {
  "kernelspec": {
   "display_name": "Python 3",
   "language": "python",
   "name": "python3"
  },
  "language_info": {
   "codemirror_mode": {
    "name": "ipython",
    "version": 3
   },
   "file_extension": ".py",
   "mimetype": "text/x-python",
   "name": "python",
   "nbconvert_exporter": "python",
   "pygments_lexer": "ipython3",
   "version": "3.10.6"
  }
 },
 "nbformat": 4,
 "nbformat_minor": 5
}
