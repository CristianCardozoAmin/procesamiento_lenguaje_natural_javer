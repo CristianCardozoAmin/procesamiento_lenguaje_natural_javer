{
 "cells": [
  {
   "cell_type": "markdown",
   "id": "66506b3b",
   "metadata": {},
   "source": [
    "---\n",
    "## Dependencias"
   ]
  },
  {
   "cell_type": "code",
   "execution_count": 1,
   "id": "1d48338b",
   "metadata": {},
   "outputs": [],
   "source": [
    "from statistics import mean\n",
    "import spacy"
   ]
  },
  {
   "cell_type": "code",
   "execution_count": 12,
   "id": "0a62d3d1",
   "metadata": {},
   "outputs": [],
   "source": [
    "from spacy.cli import download\n",
    "nlp = spacy.load(\"es_core_news_sm\")"
   ]
  },
  {
   "cell_type": "code",
   "execution_count": 5,
   "id": "2756473d",
   "metadata": {},
   "outputs": [],
   "source": [
    "text = \"\"\"Aquí sí pasa, te presentamos el pronóstico del clima o del tiempo en Bogotá, mi Ciudad, mi Casa para que programes tu salida y evites contratiempos. Aquí encuentras el reporte entregado por el Instituto Distrital de Gestión de Riesgos y Cambio Climático (IDIGER) para este martes 16 de septiembre de 2025. ¡Toma nota!  \n",
    "\n",
    "No olvides leer: Conoce los barrios en Bogotá y Soacha con cortes de agua este martes 16 de septiembre\n",
    "\n",
    "Según el reporte del IDIGER, en la madrugada de este martes, son estimadas condiciones secas con cielo mayormente nublado en Bogotá.\n",
    "\n",
    "La temperatura mínima esperada es de 11°C.\n",
    "\n",
    "En la mañana se espera predomine el tiempo seco con cielo entre parcial y mayormente nublado.\"\"\""
   ]
  },
  {
   "cell_type": "markdown",
   "id": "6855e0e2",
   "metadata": {},
   "source": [
    "---\n",
    "## 1. Preprocesar oraciones y tokens"
   ]
  },
  {
   "cell_type": "code",
   "execution_count": null,
   "id": "5a7b9e93",
   "metadata": {},
   "outputs": [],
   "source": [
    "# Procesamiento del texto\n",
    "doc = nlp(text)\n",
    "\n",
    "# Obtener las oraciones\n",
    "sentences = list(doc.sents)"
   ]
  },
  {
   "cell_type": "code",
   "execution_count": 20,
   "id": "0be2df1d",
   "metadata": {},
   "outputs": [
    {
     "data": {
      "text/plain": [
       "Aquí sí pasa, te presentamos el pronóstico del clima o del tiempo en Bogotá, mi Ciudad, mi Casa para que programes tu salida y evites contratiempos."
      ]
     },
     "execution_count": 20,
     "metadata": {},
     "output_type": "execute_result"
    }
   ],
   "source": [
    "sentences[0]"
   ]
  },
  {
   "cell_type": "code",
   "execution_count": 17,
   "id": "fe3df851",
   "metadata": {},
   "outputs": [],
   "source": [
    "# Filtrar tokens que no sean espacios o puntuación\n",
    "tokens_por_oracion = []\n",
    "for sent in sentences:\n",
    "    toks = [t for t in sent if not t.is_space and not t.is_punct]\n",
    "    tokens_por_oracion.append(toks)"
   ]
  },
  {
   "cell_type": "code",
   "execution_count": 22,
   "id": "fd15235c",
   "metadata": {},
   "outputs": [
    {
     "data": {
      "text/plain": [
       "[Aquí,\n",
       " sí,\n",
       " pasa,\n",
       " te,\n",
       " presentamos,\n",
       " el,\n",
       " pronóstico,\n",
       " del,\n",
       " clima,\n",
       " o,\n",
       " del,\n",
       " tiempo,\n",
       " en,\n",
       " Bogotá,\n",
       " mi,\n",
       " Ciudad,\n",
       " mi,\n",
       " Casa,\n",
       " para,\n",
       " que,\n",
       " programes,\n",
       " tu,\n",
       " salida,\n",
       " y,\n",
       " evites,\n",
       " contratiempos]"
      ]
     },
     "execution_count": 22,
     "metadata": {},
     "output_type": "execute_result"
    }
   ],
   "source": [
    "tokens_por_oracion[0][:]"
   ]
  },
  {
   "cell_type": "markdown",
   "id": "4de8debe",
   "metadata": {},
   "source": [
    "---\n",
    "## 2. Análisis original "
   ]
  },
  {
   "cell_type": "code",
   "execution_count": 23,
   "id": "c708065e",
   "metadata": {},
   "outputs": [],
   "source": [
    "palabras_totales = sum(len(toks) for toks in tokens_por_oracion)\n",
    "num_oraciones   = len(sentences)\n",
    "palabras_por_oracion = [len(toks) for toks in tokens_por_oracion]"
   ]
  },
  {
   "cell_type": "code",
   "execution_count": 24,
   "id": "3b9825d7",
   "metadata": {},
   "outputs": [],
   "source": [
    "verbos  = [sum(1 for t in toks if t.pos_ in {\"VERB\",\"AUX\"}) for toks in tokens_por_oracion]\n",
    "sustant = [sum(1 for t in toks if t.pos_ in {\"NOUN\",\"PROPN\"}) for toks in tokens_por_oracion]\n",
    "adjetiv = [sum(1 for t in toks if t.pos_ == \"ADJ\") for toks in tokens_por_oracion]\n",
    "pronomb = [sum(1 for t in toks if t.pos_ == \"PRON\") for toks in tokens_por_oracion]\n",
    "adverb  = [sum(1 for t in toks if t.pos_ == \"ADV\") for toks in tokens_por_oracion]\n",
    "stopw   = [sum(1 for t in toks if t.is_stop) for toks in tokens_por_oracion]"
   ]
  },
  {
   "cell_type": "code",
   "execution_count": 25,
   "id": "a22a9f40",
   "metadata": {},
   "outputs": [
    {
     "name": "stdout",
     "output_type": "stream",
     "text": [
      "=== ORIGINAL ===\n",
      "Oraciones: 5\n",
      "Palabras totales: 117\n",
      "Palabras sin stopwords: 59\n",
      "Promedio palabras por oración: 23.4\n",
      "Promedio verbos por oración: 2.2\n",
      "Promedio sustantivos por oración: 7.8\n",
      "Promedio adjetivos por oración: 2\n",
      "Promedio pronombres por oración: 0.4\n",
      "Promedio adverbios por oración: 0.8\n",
      "Promedio stopwords por oración: 10.6\n",
      "Tokenización: ['Aquí', 'sí', 'pasa', 'te', 'presentamos', 'el', 'pronóstico', 'del', 'clima', 'o', 'del', 'tiempo', 'en', 'Bogotá', 'mi', 'Ciudad', 'mi', 'Casa', 'para', 'que', 'programes', 'tu', 'salida', 'y', 'evites', 'contratiempos', 'Aquí', 'encuentras', 'el', 'reporte', 'entregado', 'por', 'el', 'Instituto', 'Distrital', 'de', 'Gestión', 'de', 'Riesgos', 'y', 'Cambio', 'Climático', 'IDIGER', 'para', 'este', 'martes', 'de', 'septiembre', 'de', 'Toma', 'nota', 'No', 'olvides', 'leer', 'Conoce', 'los', 'barrios', 'en', 'Bogotá', 'y', 'Soacha', 'con', 'cortes', 'de', 'agua', 'este', 'martes', 'de', 'septiembre', 'Según', 'el', 'reporte', 'del', 'IDIGER', 'en', 'la', 'madrugada', 'de', 'este', 'martes', 'son', 'estimadas', 'condiciones', 'secas', 'con', 'cielo', 'mayormente', 'nublado', 'en', 'Bogotá', 'La', 'temperatura', 'mínima', 'esperada', 'es', 'de', 'En', 'la', 'mañana', 'se', 'espera', 'predomine', 'el', 'tiempo', 'seco', 'con', 'cielo', 'entre', 'parcial', 'y', 'mayormente', 'nublado']\n"
     ]
    }
   ],
   "source": [
    "print(\"=== ORIGINAL ===\")\n",
    "print(\"Oraciones:\", num_oraciones)\n",
    "print(\"Palabras totales:\", palabras_totales)\n",
    "print(\"Palabras sin stopwords:\", sum(1 for t in doc if t.is_alpha and not t.is_stop))\n",
    "print(\"Promedio palabras por oración:\", mean(palabras_por_oracion))\n",
    "print(\"Promedio verbos por oración:\", mean(verbos))\n",
    "print(\"Promedio sustantivos por oración:\", mean(sustant))\n",
    "print(\"Promedio adjetivos por oración:\", mean(adjetiv))\n",
    "print(\"Promedio pronombres por oración:\", mean(pronomb))\n",
    "print(\"Promedio adverbios por oración:\", mean(adverb))\n",
    "print(\"Promedio stopwords por oración:\", mean(stopw))\n",
    "print(\"Tokenización:\", [t.text for t in doc if t.is_alpha])"
   ]
  },
  {
   "cell_type": "markdown",
   "id": "747070e2",
   "metadata": {},
   "source": [
    "---\n",
    "## 3. Analisis Sin stopwords "
   ]
  },
  {
   "cell_type": "code",
   "execution_count": 26,
   "id": "2a72b7bc",
   "metadata": {},
   "outputs": [
    {
     "name": "stdout",
     "output_type": "stream",
     "text": [
      "\n",
      "=== SIN STOPWORDS ===\n",
      "Palabras totales (sin stopwords): 64\n",
      "Promedio palabras por oración: 12.8\n",
      "Promedio verbos por oración: 1.8\n",
      "Promedio sustantivos por oración: 7.8\n",
      "Promedio adjetivos por oración: 2\n",
      "Promedio pronombres por oración: 0\n",
      "Promedio adverbios por oración: 0.2\n",
      "Tokenización sin stopwords: ['pasa', 'presentamos', 'pronóstico', 'clima', 'tiempo', 'Bogotá', 'Ciudad', 'Casa', 'programes', 'salida', 'evites', 'contratiempos', 'encuentras', 'reporte', 'entregado', 'Instituto', 'Distrital', 'Gestión', 'Riesgos', 'Cambio', 'Climático', 'IDIGER', 'martes', 'septiembre', 'Toma', 'nota', 'olvides', 'leer', 'Conoce', 'barrios', 'Bogotá', 'Soacha', 'cortes', 'agua', 'martes', 'septiembre', 'reporte', 'IDIGER', 'madrugada', 'martes', 'estimadas', 'condiciones', 'secas', 'cielo', 'mayormente', 'nublado', 'Bogotá', 'temperatura', 'mínima', 'esperada', 'mañana', 'espera', 'predomine', 'tiempo', 'seco', 'cielo', 'parcial', 'mayormente', 'nublado']\n"
     ]
    }
   ],
   "source": [
    "tokens_sin_sw = [[t for t in toks if not t.is_stop] for toks in tokens_por_oracion]\n",
    "pal_sin_sw = sum(len(toks) for toks in tokens_sin_sw)\n",
    "\n",
    "print(\"\\n=== SIN STOPWORDS ===\")\n",
    "print(\"Palabras totales (sin stopwords):\", pal_sin_sw)\n",
    "print(\"Promedio palabras por oración:\", mean(len(toks) for toks in tokens_sin_sw))\n",
    "print(\"Promedio verbos por oración:\", mean(sum(1 for t in toks if t.pos_ in {\"VERB\",\"AUX\"}) for toks in tokens_sin_sw))\n",
    "print(\"Promedio sustantivos por oración:\", mean(sum(1 for t in toks if t.pos_ in {\"NOUN\",\"PROPN\"}) for toks in tokens_sin_sw))\n",
    "print(\"Promedio adjetivos por oración:\", mean(sum(1 for t in toks if t.pos_ == \"ADJ\") for toks in tokens_sin_sw))\n",
    "print(\"Promedio pronombres por oración:\", mean(sum(1 for t in toks if t.pos_ == \"PRON\") for toks in tokens_sin_sw))\n",
    "print(\"Promedio adverbios por oración:\", mean(sum(1 for t in toks if t.pos_ == \"ADV\") for toks in tokens_sin_sw))\n",
    "print(\"Tokenización sin stopwords:\", [t.text for t in doc if t.is_alpha and not t.is_stop])\n"
   ]
  },
  {
   "cell_type": "markdown",
   "id": "67cf26b1",
   "metadata": {},
   "source": [
    "## 4. Analisis Sin Lematizado "
   ]
  },
  {
   "cell_type": "code",
   "execution_count": 27,
   "id": "a8d5bd65",
   "metadata": {},
   "outputs": [
    {
     "name": "stdout",
     "output_type": "stream",
     "text": [
      "\n",
      "=== LEMATIZADO ===\n",
      "Oraciones: 5\n",
      "Palabras totales (lemmas): 112\n",
      "Palabras sin stopwords: 59\n",
      "Promedio palabras por oración: 22.4\n",
      "Promedio verbos por oración: 2.2\n",
      "Promedio sustantivos por oración: 7.8\n",
      "Promedio adjetivos por oración: 2\n",
      "Promedio pronombres por oración: 0.4\n",
      "Promedio adverbios por oración: 0.8\n",
      "Promedio stopwords por oración: 10.6\n",
      "Tokenización lematizada: ['aquí', 'sí', 'pasar', 'tú', 'presentar', 'el', 'pronóstico', 'del', 'clima', 'o', 'del', 'tiempo', 'en', 'Bogotá', 'mi', 'Ciudad', 'mi', 'Casa', 'para', 'que', 'programser', 'tu', 'salida', 'y', 'evit', 'contratiempo', 'aquí', 'encontrar', 'el', 'reporte', 'entregado', 'por', 'el', 'Instituto', 'Distrital', 'de', 'Gestión', 'de', 'Riesgos', 'y', 'Cambio', 'Climático', 'IDIGER', 'para', 'este', 'martes', 'de', 'septiembre', 'de', 'Toma', 'noto', 'no', 'olvides', 'leer', 'conocer', 'el', 'barrio', 'en', 'Bogotá', 'y', 'Soacha', 'con', 'corte', 'de', 'agua', 'este', 'martes', 'de', 'septiembre', 'Según', 'el', 'reporte', 'del', 'IDIGER', 'en', 'el', 'madrugada', 'de', 'este', 'martes', 'ser', 'estimar', 'condición', 'seco', 'con', 'cielo', 'mayormente', 'nublado', 'en', 'Bogotá', 'el', 'temperatura', 'mínimo', 'esperado', 'ser', 'de', 'en', 'el', 'mañana', 'él', 'esperar', 'predominar', 'el', 'tiempo', 'seco', 'con', 'cielo', 'entre', 'parcial', 'y', 'mayormente', 'nublado']\n"
     ]
    }
   ],
   "source": [
    "lemmas_por_oracion = [[t for t in sent if t.is_alpha] for sent in sentences]\n",
    "print(\"\\n=== LEMATIZADO ===\")\n",
    "print(\"Oraciones:\", len(lemmas_por_oracion))\n",
    "print(\"Palabras totales (lemmas):\", sum(len(t) for t in lemmas_por_oracion))\n",
    "print(\"Palabras sin stopwords:\", sum(1 for t in doc if t.is_alpha and not t.is_stop))\n",
    "print(\"Promedio palabras por oración:\", mean(len(t) for t in lemmas_por_oracion))\n",
    "print(\"Promedio verbos por oración:\", mean(sum(1 for t in toks if t.pos_ in {\"VERB\",\"AUX\"}) for toks in lemmas_por_oracion))\n",
    "print(\"Promedio sustantivos por oración:\", mean(sum(1 for t in toks if t.pos_ in {\"NOUN\",\"PROPN\"}) for toks in lemmas_por_oracion))\n",
    "print(\"Promedio adjetivos por oración:\", mean(sum(1 for t in toks if t.pos_ == \"ADJ\") for toks in lemmas_por_oracion))\n",
    "print(\"Promedio pronombres por oración:\", mean(sum(1 for t in toks if t.pos_ == \"PRON\") for toks in lemmas_por_oracion))\n",
    "print(\"Promedio adverbios por oración:\", mean(sum(1 for t in toks if t.pos_ == \"ADV\") for toks in lemmas_por_oracion))\n",
    "print(\"Promedio stopwords por oración:\", mean(sum(1 for t in toks if t.is_stop) for toks in lemmas_por_oracion))\n",
    "print(\"Tokenización lematizada:\", [t.lemma_ for t in doc if t.is_alpha])"
   ]
  },
  {
   "cell_type": "markdown",
   "id": "b0dc2486",
   "metadata": {},
   "source": [
    "## 5. Generacion funcion que resuma el analisis"
   ]
  },
  {
   "cell_type": "code",
   "execution_count": 50,
   "id": "5f0d68a7",
   "metadata": {},
   "outputs": [],
   "source": [
    "def morfologia_texto(text: str):\n",
    "    \n",
    "    # Importar librerías\n",
    "    from statistics import mean\n",
    "    import spacy\n",
    "\n",
    "    # Cargar el modelo de spaCy para español\n",
    "    try:\n",
    "        nlp = spacy.load(\"es_core_news_sm\")\n",
    "    except OSError:\n",
    "        from spacy.cli import download\n",
    "        download(\"es_core_news_sm\")\n",
    "        nlp = spacy.load(\"es_core_news_sm\")\n",
    "\n",
    "    # Procesar el texto\n",
    "    doc = nlp(text)\n",
    "\n",
    "    # Obtener las oraciones\n",
    "    sentences = list(doc.sents)\n",
    "    tokens_por_oracion = [[t for t in sent if t.is_alpha] for sent in sentences]\n",
    "\n",
    "    # Función para calcular el promedio de una lista, manejando listas vacías\n",
    "    prom = lambda lst: float(mean(lst)) if lst else 0.0\n",
    "\n",
    "    # -------- ORIGINAL --------\n",
    "    palabras_totales = sum(len(t) for t in tokens_por_oracion)\n",
    "    oraciones = len(tokens_por_oracion)\n",
    "\n",
    "    verbos_list  = [sum(1 for t in toks if t.pos_ in {\"VERB\", \"AUX\"})  for toks in tokens_por_oracion]\n",
    "    sustant_list = [sum(1 for t in toks if t.pos_ in {\"NOUN\", \"PROPN\"}) for toks in tokens_por_oracion]\n",
    "    adjetiv_list = [sum(1 for t in toks if t.pos_ == \"ADJ\")             for toks in tokens_por_oracion]\n",
    "    pronomb_list = [sum(1 for t in toks if t.pos_ == \"PRON\")            for toks in tokens_por_oracion]\n",
    "    adverb_list  = [sum(1 for t in toks if t.pos_ == \"ADV\")             for toks in tokens_por_oracion]\n",
    "    stopw_list   = [sum(1 for t in toks if t.is_stop)                   for toks in tokens_por_oracion]\n",
    "\n",
    "\n",
    "    original = {\n",
    "        \"oraciones\": oraciones,\n",
    "        \"cantidad_palabras\": sum(palabras_por_oracion),\n",
    "        \"cantidad_palabras_sin_stopwords\": sum(1 for t in doc if t.is_alpha and not t.is_stop),\n",
    "\n",
    "        # Promedios por oración\n",
    "        \"promedio_palabras_por_oracion\": prom(palabras_por_oracion),\n",
    "        \"promedio_verbos_por_oracion\": prom(verbos_list),\n",
    "        \"promedio_sustantivos_por_oracion\": prom(sustant_list),\n",
    "        \"promedio_adjetivos_por_oracion\": prom(adjetiv_list),\n",
    "        \"promedio_pronombres_por_oracion\": prom(pronomb_list),\n",
    "        \"promedio_adverbios_por_oracion\": prom(adverb_list),\n",
    "        \"promedio_stopwords_por_oracion\": prom(stopw_list),\n",
    "\n",
    "        # Totales en todo el texto\n",
    "        \"total_verbos\": sum(verbos_list),\n",
    "        \"total_sustantivos\": sum(sustant_list),\n",
    "        \"total_adjetivos\": sum(adjetiv_list),\n",
    "        \"total_pronombres\": sum(pronomb_list),\n",
    "        \"total_adverbios\": sum(adverb_list),\n",
    "        \"total_stopwords\": sum(stopw_list)\n",
    "    }\n",
    "\n",
    "    # -------- SIN STOPWORDS --------\n",
    "    tokens_sin_sw = [[t for t in toks if not t.is_stop] for toks in tokens_por_oracion]\n",
    "    palabras_por_oracion_sw = [len(toks) for toks in tokens_sin_sw]\n",
    "\n",
    "    verbos_sw_list  = [sum(1 for t in toks if t.pos_ in {\"VERB\", \"AUX\"})  for toks in tokens_sin_sw]\n",
    "    sustant_sw_list = [sum(1 for t in toks if t.pos_ in {\"NOUN\", \"PROPN\"}) for toks in tokens_sin_sw]\n",
    "    adjetiv_sw_list = [sum(1 for t in toks if t.pos_ == \"ADJ\")             for toks in tokens_sin_sw]\n",
    "    pronomb_sw_list = [sum(1 for t in toks if t.pos_ == \"PRON\")            for toks in tokens_sin_sw]\n",
    "    adverb_sw_list  = [sum(1 for t in toks if t.pos_ == \"ADV\")             for toks in tokens_sin_sw]\n",
    "\n",
    "    sin_stopwords = {\n",
    "        \"oraciones\": oraciones,\n",
    "        \"cantidad_palabras\": sum(palabras_por_oracion_sw),\n",
    "        \"cantidad_palabras_sin_stopwords\": sum(palabras_por_oracion_sw),\n",
    "\n",
    "        # Promedios por oración\n",
    "        \"promedio_palabras_por_oracion\": prom(palabras_por_oracion_sw),\n",
    "        \"promedio_verbos_por_oracion\": prom(verbos_sw_list),\n",
    "        \"promedio_sustantivos_por_oracion\": prom(sustant_sw_list),\n",
    "        \"promedio_adjetivos_por_oracion\": prom(adjetiv_sw_list),\n",
    "        \"promedio_pronombres_por_oracion\": prom(pronomb_sw_list),\n",
    "        \"promedio_adverbios_por_oracion\": prom(adverb_sw_list),\n",
    "        \"promedio_stopwords_por_oracion\": 0.0,\n",
    "\n",
    "        # Totales en todo el texto (sin stopwords)\n",
    "        \"total_verbos\": sum(verbos_sw_list),\n",
    "        \"total_sustantivos\": sum(sustant_sw_list),\n",
    "        \"total_adjetivos\": sum(adjetiv_sw_list),\n",
    "        \"total_pronombres\": sum(pronomb_sw_list),\n",
    "        \"total_adverbios\": sum(adverb_sw_list),\n",
    "        \"total_stopwords\": 0\n",
    "    }\n",
    "\n",
    "\n",
    "    return {\n",
    "        \"original\": original,\n",
    "        \"sin_stopwords\": sin_stopwords,\n",
    "    }"
   ]
  },
  {
   "cell_type": "code",
   "execution_count": 51,
   "id": "15bb6ef5",
   "metadata": {},
   "outputs": [],
   "source": [
    "analisis = morfologia_texto(\"\"\"Conoce cómo aplica la medida de pico y placa en Bogotá este martes 16 de septiembre de 2025. Estos son los horarios de la medida para vehículos particulares y taxis que pueden circular en la ciudad, según el calendario de la Secretaría Distrital de Movilidad (SDM). ¡Agéndate y evita sanciones! \n",
    "\n",
    "Te puede interesar: Conoce los barrios en Bogotá con cortes de agua este martes 16 de septiembre\n",
    "\n",
    "Vehículos particulares: Pueden circular los vehículos con placas terminadas en 6, 7, 8, 9 y 0.\n",
    "\n",
    "Taxis: Pueden circular los vehículos con placas terminadas en 1, 2, 5, 6, 7, 8, 9 y 0.\n",
    "\n",
    "Horarios de la medida para vehículos particulares de 6:00 a. m. a 9:00 p. m. y para taxis de 5:30 a. m. a 9:00 p. m. \n",
    "\n",
    "Recuerda que los usuarios que quieran ser exentos del pico y placa pueden registrarse en la página de la Secretaría Distrital de Movilidad y conocer el Pico y Placa Solidario, la modalidad con la que usted puede pagar para usar su vehículo en Bogotá sin ninguna restricción. Conoce más detalles aquí: Conoce la única plataforma autorizada para tramitar el pico y placa solidario en Bogotá.\n",
    "\n",
    "¡Ojo! No te dejes engañar con páginas falsas que ofrecen pico y placa solidario en Bogotá\n",
    "El único canal oficial para adquirir y pagar el Pico y Placa Solidario es la plataforma de la entidad, a la que se accede exclusivamente a través del sitio web: www.movilidadbogota.gov.co. Igualmente, se aclara que la única forma de pago es mediante botón de PSE dentro de la página oficial. \"\"\")"
   ]
  },
  {
   "cell_type": "code",
   "execution_count": 52,
   "id": "0c05d0c0",
   "metadata": {},
   "outputs": [
    {
     "data": {
      "text/plain": [
       "{'original': {'oraciones': 9,\n",
       "  'cantidad_palabras': 117,\n",
       "  'cantidad_palabras_sin_stopwords': 108,\n",
       "  'promedio_palabras_por_oracion': 23.4,\n",
       "  'promedio_verbos_por_oracion': 3.7777777777777777,\n",
       "  'promedio_sustantivos_por_oracion': 7.333333333333333,\n",
       "  'promedio_adjetivos_por_oracion': 2.0,\n",
       "  'promedio_pronombres_por_oracion': 1.3333333333333333,\n",
       "  'promedio_adverbios_por_oracion': 0.6666666666666666,\n",
       "  'promedio_stopwords_por_oracion': 13.222222222222221,\n",
       "  'total_verbos': 34,\n",
       "  'total_sustantivos': 66,\n",
       "  'total_adjetivos': 18,\n",
       "  'total_pronombres': 12,\n",
       "  'total_adverbios': 6,\n",
       "  'total_stopwords': 119},\n",
       " 'sin_stopwords': {'oraciones': 9,\n",
       "  'cantidad_palabras': 108,\n",
       "  'cantidad_palabras_sin_stopwords': 108,\n",
       "  'promedio_palabras_por_oracion': 12.0,\n",
       "  'promedio_verbos_por_oracion': 2.4444444444444446,\n",
       "  'promedio_sustantivos_por_oracion': 7.222222222222222,\n",
       "  'promedio_adjetivos_por_oracion': 2.0,\n",
       "  'promedio_pronombres_por_oracion': 0.0,\n",
       "  'promedio_adverbios_por_oracion': 0.2222222222222222,\n",
       "  'promedio_stopwords_por_oracion': 0.0,\n",
       "  'total_verbos': 22,\n",
       "  'total_sustantivos': 65,\n",
       "  'total_adjetivos': 18,\n",
       "  'total_pronombres': 0,\n",
       "  'total_adverbios': 2,\n",
       "  'total_stopwords': 0}}"
      ]
     },
     "execution_count": 52,
     "metadata": {},
     "output_type": "execute_result"
    }
   ],
   "source": [
    "analisis"
   ]
  }
 ],
 "metadata": {
  "kernelspec": {
   "display_name": "Python 3",
   "language": "python",
   "name": "python3"
  },
  "language_info": {
   "codemirror_mode": {
    "name": "ipython",
    "version": 3
   },
   "file_extension": ".py",
   "mimetype": "text/x-python",
   "name": "python",
   "nbconvert_exporter": "python",
   "pygments_lexer": "ipython3",
   "version": "3.10.6"
  }
 },
 "nbformat": 4,
 "nbformat_minor": 5
}
