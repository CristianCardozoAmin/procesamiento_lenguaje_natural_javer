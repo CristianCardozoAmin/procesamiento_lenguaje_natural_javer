{
 "cells": [
  {
   "cell_type": "markdown",
   "id": "ff8eb6cb",
   "metadata": {},
   "source": [
    "---\n",
    "## Dependencias"
   ]
  },
  {
   "cell_type": "code",
   "execution_count": 2,
   "id": "202fc1e9",
   "metadata": {},
   "outputs": [],
   "source": [
    "import spacy\n",
    "from spacy.lang.es.stop_words import STOP_WORDS"
   ]
  },
  {
   "cell_type": "markdown",
   "id": "62cc324a",
   "metadata": {},
   "source": [
    "---\n",
    "## 1. Preprocesar texto"
   ]
  },
  {
   "cell_type": "code",
   "execution_count": 3,
   "id": "74670047",
   "metadata": {},
   "outputs": [],
   "source": [
    "nlp = spacy.load(\"es_core_news_sm\")"
   ]
  },
  {
   "cell_type": "code",
   "execution_count": 4,
   "id": "4e7f2c6e",
   "metadata": {},
   "outputs": [],
   "source": [
    "texto = \"\"\"Conoce cómo aplica la medida de pico y placa en Bogotá este martes 16 de septiembre de 2025. Estos son los horarios de la medida para vehículos particulares y taxis que pueden circular en la ciudad, según el calendario de la Secretaría Distrital de Movilidad (SDM). ¡Agéndate y evita sanciones! \n",
    "\n",
    "Te puede interesar: Conoce los barrios en Bogotá con cortes de agua este martes 16 de septiembre\n",
    "\n",
    "Vehículos particulares: Pueden circular los vehículos con placas terminadas en 6, 7, 8, 9 y 0.\n",
    "\n",
    "Taxis: Pueden circular los vehículos con placas terminadas en 1, 2, 5, 6, 7, 8, 9 y 0.\n",
    "\n",
    "Horarios de la medida para vehículos particulares de 6:00 a. m. a 9:00 p. m. y para taxis de 5:30 a. m. a 9:00 p. m. \n",
    "\n",
    "Recuerda que los usuarios que quieran ser exentos del pico y placa pueden registrarse en la página de la Secretaría Distrital de Movilidad y conocer el Pico y Placa Solidario, la modalidad con la que usted puede pagar para usar su vehículo en Bogotá sin ninguna restricción. Conoce más detalles aquí: Conoce la única plataforma autorizada para tramitar el pico y placa solidario en Bogotá.\n",
    "\n",
    "¡Ojo! No te dejes engañar con páginas falsas que ofrecen pico y placa solidario en Bogotá\n",
    "El único canal oficial para adquirir y pagar el Pico y Placa Solidario es la plataforma de la entidad, a la que se accede exclusivamente a través del sitio web: www.movilidadbogota.gov.co. Igualmente, se aclara que la única forma de pago es mediante botón de PSE dentro de la página oficial. \"\"\""
   ]
  },
  {
   "cell_type": "code",
   "execution_count": 10,
   "id": "67ac1a8b",
   "metadata": {},
   "outputs": [],
   "source": [
    " # Procesar el texto\n",
    "doc = nlp(texto.lower())  # pasamos todo a minúsculas\n",
    "\n",
    "# Filtrar tokens: sin stopwords, sin puntuación y con longitud > 1\n",
    "oraciones_procesadas = []\n",
    "for sent in doc.sents:\n",
    "    tokens_limpios = [\n",
    "        token.lemma_\n",
    "        for token in sent\n",
    "        if token.is_alpha and token.lemma_ not in STOP_WORDS\n",
    "    ]\n",
    "    oraciones_procesadas.append(tokens_limpios)"
   ]
  },
  {
   "cell_type": "code",
   "execution_count": 12,
   "id": "6d09ee34",
   "metadata": {},
   "outputs": [
    {
     "data": {
      "text/plain": [
       "[['aplicar', 'medida', 'pico', 'placar', 'martes', 'septiembre'],\n",
       " ['horario',\n",
       "  'medida',\n",
       "  'vehículo',\n",
       "  'particular',\n",
       "  'taxi',\n",
       "  'circular',\n",
       "  'ciudad',\n",
       "  'calendario',\n",
       "  'secretaría',\n",
       "  'distrital',\n",
       "  'movilidad',\n",
       "  'sdm'],\n",
       " ['agéndate',\n",
       "  'evitar',\n",
       "  'sanción',\n",
       "  'interesar',\n",
       "  'barrio',\n",
       "  'bogotá',\n",
       "  'corte',\n",
       "  'agua',\n",
       "  'martes',\n",
       "  'septiembre',\n",
       "  'vehículo',\n",
       "  'particular',\n",
       "  'circular',\n",
       "  'vehículo',\n",
       "  'placa',\n",
       "  'terminado',\n",
       "  'taxi',\n",
       "  'circular',\n",
       "  'vehículo',\n",
       "  'placa',\n",
       "  'terminado',\n",
       "  'horario',\n",
       "  'medida',\n",
       "  'vehículo',\n",
       "  'particular',\n",
       "  'taxi',\n",
       "  'recordar',\n",
       "  'usuario',\n",
       "  'querer',\n",
       "  'exento',\n",
       "  'pico',\n",
       "  'placar',\n",
       "  'registrar él',\n",
       "  'página',\n",
       "  'secretaría',\n",
       "  'distrital',\n",
       "  'movilidad',\n",
       "  'pico',\n",
       "  'placa',\n",
       "  'solidario',\n",
       "  'modalidad',\n",
       "  'pagar',\n",
       "  'vehículo',\n",
       "  'restricción'],\n",
       " ['detalle',\n",
       "  'único',\n",
       "  'plataforma',\n",
       "  'autorizado',\n",
       "  'tramitar',\n",
       "  'pico',\n",
       "  'placo',\n",
       "  'solidario',\n",
       "  'bogotá'],\n",
       " ['ojo',\n",
       "  'dej',\n",
       "  'engañar',\n",
       "  'página',\n",
       "  'falso',\n",
       "  'ofrecer',\n",
       "  'pico',\n",
       "  'placo',\n",
       "  'solidario',\n",
       "  'bogotá',\n",
       "  'único',\n",
       "  'canal',\n",
       "  'oficial',\n",
       "  'adquirir',\n",
       "  'pagar',\n",
       "  'pico',\n",
       "  'placa',\n",
       "  'solidario',\n",
       "  'plataforma',\n",
       "  'entidad',\n",
       "  'acceder',\n",
       "  'exclusivamente',\n",
       "  'sitio',\n",
       "  'web'],\n",
       " ['igualmente',\n",
       "  'aclarar',\n",
       "  'único',\n",
       "  'forma',\n",
       "  'pago',\n",
       "  'botón',\n",
       "  'pse',\n",
       "  'página',\n",
       "  'oficial']]"
      ]
     },
     "execution_count": 12,
     "metadata": {},
     "output_type": "execute_result"
    }
   ],
   "source": [
    "oraciones_procesadas"
   ]
  },
  {
   "cell_type": "markdown",
   "id": "a9538c63",
   "metadata": {},
   "source": [
    "---\n",
    "## 2. Funcion para preprocesar"
   ]
  },
  {
   "cell_type": "code",
   "execution_count": 13,
   "id": "c11356e0",
   "metadata": {},
   "outputs": [],
   "source": [
    "def preprocesar_texto(texto: str) -> list:\n",
    "    \"\"\"\n",
    "    Preprocesa un texto en español: \n",
    "    - Tokeniza\n",
    "    - Elimina stop words y signos de puntuación\n",
    "    - Lematiza\n",
    "    \n",
    "    Parámetros:\n",
    "        texto (str): Texto de entrada.\n",
    "    \n",
    "    Retorna:\n",
    "        list: Lista de tokens lematizados limpios.\n",
    "    \"\"\"\n",
    "    import spacy\n",
    "    from spacy.lang.es.stop_words import STOP_WORDS\n",
    "\n",
    "    # Cargar el modelo de spaCy para español\n",
    "    try:\n",
    "        nlp = spacy.load(\"es_core_news_sm\")\n",
    "    except OSError:\n",
    "        from spacy.cli import download\n",
    "        download(\"es_core_news_sm\")\n",
    "        nlp = spacy.load(\"es_core_news_sm\")\n",
    "    \n",
    "    # Procesar el texto\n",
    "    doc = nlp(texto.lower())  # pasamos todo a minúsculas\n",
    "    \n",
    "    # Filtrar tokens: sin stopwords, sin puntuación y con longitud > 1\n",
    "    oraciones_procesadas = []\n",
    "    for sent in doc.sents:\n",
    "        tokens_limpios = [\n",
    "            token.lemma_\n",
    "            for token in sent\n",
    "            if token.is_alpha and token.lemma_ not in STOP_WORDS\n",
    "        ]\n",
    "        oraciones_procesadas.append(tokens_limpios)\n",
    "    \n",
    "    return tokens_limpios"
   ]
  },
  {
   "cell_type": "code",
   "execution_count": null,
   "id": "855d5463",
   "metadata": {},
   "outputs": [],
   "source": []
  }
 ],
 "metadata": {
  "kernelspec": {
   "display_name": "Python 3",
   "language": "python",
   "name": "python3"
  },
  "language_info": {
   "codemirror_mode": {
    "name": "ipython",
    "version": 3
   },
   "file_extension": ".py",
   "mimetype": "text/x-python",
   "name": "python",
   "nbconvert_exporter": "python",
   "pygments_lexer": "ipython3",
   "version": "3.10.6"
  }
 },
 "nbformat": 4,
 "nbformat_minor": 5
}
