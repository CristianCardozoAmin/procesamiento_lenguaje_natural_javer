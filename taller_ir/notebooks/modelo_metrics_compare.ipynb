{
 "cells": [
  {
   "cell_type": "markdown",
   "id": "59bd6325",
   "metadata": {},
   "source": [
    "---\n",
    "## Dependencias "
   ]
  },
  {
   "cell_type": "code",
   "execution_count": null,
   "id": "81d43c7d",
   "metadata": {},
   "outputs": [],
   "source": [
    "from sklearn.feature_extraction.text import TfidfVectorizer, CountVectorizer\n",
    "from sklearn.metrics.pairwise import cosine_similarity\n",
    "import pandas as pd\n",
    "import ast\n",
    "import numpy as np\n",
    "import math\n",
    "import seaborn as sns"
   ]
  },
  {
   "cell_type": "markdown",
   "id": "22522567",
   "metadata": {},
   "source": [
    "## Carga archivos"
   ]
  },
  {
   "cell_type": "code",
   "execution_count": null,
   "id": "69444457",
   "metadata": {},
   "outputs": [],
   "source": [
    "# Cargar los datos preprocesados\n",
    "df_libro = pd.read_csv(\"../data/output/libro_cev_preprocesado.csv\", sep=\"|\", encoding=\"utf-8\")\n",
    "df_testimonios = pd.read_csv(\"../data/output/testimonios_cev_preprocesado.csv\", sep=\"|\", encoding=\"utf-8\")"
   ]
  },
  {
   "cell_type": "code",
   "execution_count": null,
   "id": "50c8987b",
   "metadata": {},
   "outputs": [],
   "source": [
    "# Convertir las cadenas de listas de vuelta a listas\n",
    "df_libro[\"contenido_preprocesado\"] = df_libro[\"contenido_preprocesado\"].apply(ast.literal_eval)\n",
    "df_testimonios[\"contenido_preprocesado\"] = df_testimonios[\"contenido_preprocesado\"].apply(ast.literal_eval)"
   ]
  },
  {
   "cell_type": "code",
   "execution_count": null,
   "id": "0f386c38",
   "metadata": {},
   "outputs": [],
   "source": [
    "# Convertir las listas de listas en texto plano\n",
    "df_libro[\"contenido_texto\"] = df_libro[\"contenido_preprocesado\"].apply(lambda row: \" \".join([word for phrase in row for word in phrase]))\n",
    "df_testimonios[\"contenido_texto\"] = df_testimonios[\"contenido_preprocesado\"].apply(lambda row: \" \".join([word for phrase in row for word in phrase]))"
   ]
  },
  {
   "cell_type": "markdown",
   "id": "15545197",
   "metadata": {},
   "source": [
    "## Crear matriz Tfidf"
   ]
  },
  {
   "cell_type": "code",
   "execution_count": null,
   "id": "c315ecf7",
   "metadata": {},
   "outputs": [],
   "source": [
    "tfidf = TfidfVectorizer()\n",
    "tfs = tfidf.fit_transform(df_libro[\"contenido_texto\"])"
   ]
  },
  {
   "cell_type": "code",
   "execution_count": null,
   "id": "7c55ebfd",
   "metadata": {},
   "outputs": [],
   "source": [
    "print(len(tfidf.get_feature_names_out()))\n",
    "print(tfidf.get_feature_names_out())"
   ]
  },
  {
   "cell_type": "code",
   "execution_count": null,
   "id": "1da486d7",
   "metadata": {},
   "outputs": [],
   "source": [
    "secc_num, feature_num = tfs.shape\n",
    "feature_names = tfidf.get_feature_names_out()\n",
    "print(\"# secciones: %d, n_features: %d\" % tfs.shape)"
   ]
  },
  {
   "cell_type": "code",
   "execution_count": null,
   "id": "883b3e79",
   "metadata": {},
   "outputs": [],
   "source": [
    "print(\"###### Calculo de Feature Names ######\")\n",
    "for x in range(0, feature_num):\n",
    "    print(\" # \", x ,\" - \",feature_names[x], \" \\t - \", [tfs[n,x] for n in range(0, secc_num)])"
   ]
  },
  {
   "cell_type": "markdown",
   "id": "66b12561",
   "metadata": {},
   "source": [
    "## Implementacion metricas de reelevancia"
   ]
  },
  {
   "cell_type": "code",
   "execution_count": null,
   "id": "513290eb",
   "metadata": {},
   "outputs": [],
   "source": [
    "def as_doc(text):\n",
    "    return [text]\n",
    "    \n",
    "response = tfidf.transform(as_doc(df_testimonios[\"contenido_texto\"].iloc[0]))\n",
    "print('response:', response)"
   ]
  },
  {
   "cell_type": "code",
   "execution_count": null,
   "id": "12d10fb1",
   "metadata": {},
   "outputs": [],
   "source": [
    "cosine_similarity_response =  cosine_similarity(response, tfs)"
   ]
  },
  {
   "cell_type": "code",
   "execution_count": null,
   "id": "1fa64a54",
   "metadata": {},
   "outputs": [],
   "source": [
    "print(\"n_question: %d, n_features: %d\" % response.shape)\n",
    "print(\"cosine_similarity \", cosine_similarity_response)"
   ]
  },
  {
   "cell_type": "code",
   "execution_count": null,
   "id": "04560ed9",
   "metadata": {},
   "outputs": [],
   "source": [
    "def compute_similarities(doc):\n",
    "    # Transform single doc into TF-IDF using the trained vectorizer\n",
    "    response = tfidf.transform([doc])\n",
    "    # Cosine similarity vs. all docs in libro\n",
    "    sims = cosine_similarity(response, tfs)[0]  # [0] to flatten 2D → 1D array\n",
    "    return sims\n",
    "\n",
    "# Apply row by row\n",
    "df_testimonios[\"cosine_similarities\"] = df_testimonios[\"contenido_texto\"].apply(compute_similarities)"
   ]
  },
  {
   "cell_type": "code",
   "execution_count": null,
   "id": "3b580c15",
   "metadata": {},
   "outputs": [],
   "source": [
    "df_testimonios[\"cosine_similarities\"].iloc[0]"
   ]
  },
  {
   "cell_type": "code",
   "execution_count": null,
   "id": "93abb158",
   "metadata": {},
   "outputs": [],
   "source": [
    "top_n = 5\n",
    "df_testimonios[\"top_matches\"] = df_testimonios[\"cosine_similarities\"].apply(\n",
    "    lambda sims: sorted(enumerate(sims), key=lambda x: x[1], reverse=True)[:top_n]\n",
    ")"
   ]
  },
  {
   "cell_type": "code",
   "execution_count": null,
   "id": "6b532204",
   "metadata": {},
   "outputs": [],
   "source": [
    "df_testimonios[\"top_matches\"].iloc[0]"
   ]
  },
  {
   "cell_type": "markdown",
   "id": "079156c3",
   "metadata": {},
   "source": [
    "----\n",
    "## Metrics"
   ]
  },
  {
   "cell_type": "markdown",
   "id": "f0a252fb",
   "metadata": {},
   "source": [
    "### Rocchio\n",
    "El modelo Rocchio ajusta el vector de consulta en el espacio vectorial (TF-IDF) usando documentos relevantes y no relevantes que el usuario marca.\n",
    "\n",
    "Interpretación:\n",
    "\n",
    "* Empiezas con la consulta original.\n",
    "* Le agregas “peso” de los documentos relevantes.\n",
    "* Le restas “peso” de los documentos no relevantes.\n",
    "* Resultado: un query vector modificado, que refleja mejor la intención del usuario.\n",
    "\n",
    "Es un método de realimentación de relevancia (relevance feedback) que ajusta el vector de consulta en el espacio vectorial.\n",
    "\n",
    "1.  Tienes un espacio de documentos representados con TF-IDF.\n",
    "\n",
    "2.  Tomas tu consulta original y la conviertes en vector (q₀).\n",
    "\n",
    "3.  Rocchio la “mueve” en ese espacio, agregando peso hacia los documentos relevantes y alejándose de los no relevantes:\n",
    "\n",
    "4.  Una vez obtienes qnuevo, necesitas comparar ese vector contra los documentos → y ahí entra la similitud coseno.\n",
    "\n",
    "* Cosine Similarity: métrica de comparación entre vectores (cuán “cerca” están dos documentos o una consulta y un documento).\n",
    "\n",
    "* Rocchio: técnica que modifica la consulta para que, al medir con cosine, los documentos relevantes queden más cerca y los no relevantes más lejos."
   ]
  },
  {
   "cell_type": "code",
   "execution_count": null,
   "id": "0aedd804",
   "metadata": {},
   "outputs": [],
   "source": [
    "import numpy as np\n",
    "from sklearn.metrics.pairwise import cosine_similarity\n",
    "\n",
    "def rocchio(query_vec, tfs, relevant_idx=None, nonrelevant_idx=None, alpha=1.0, beta=0.75, gamma=0.15):\n",
    "    \"\"\"\n",
    "    query_vec: vector TF-IDF de la consulta (1 x n_features)\n",
    "    tfs: matriz TF-IDF de todos los documentos (n_docs x n_features)\n",
    "    relevant_idx: lista de índices de docs relevantes\n",
    "    nonrelevant_idx: lista de índices de docs no relevantes\n",
    "    \"\"\"\n",
    "    q0 = query_vec.toarray()[0]\n",
    "    q_new = alpha * q0\n",
    "\n",
    "    if relevant_idx:\n",
    "        q_new += beta * np.mean(tfs[relevant_idx].toarray(), axis=0)\n",
    "\n",
    "    if nonrelevant_idx:\n",
    "        q_new -= gamma * np.mean(tfs[nonrelevant_idx].toarray(), axis=0)\n",
    "\n",
    "    return q_new.reshape(1, -1)"
   ]
  },
  {
   "cell_type": "code",
   "execution_count": null,
   "id": "a7cfdf60",
   "metadata": {},
   "outputs": [],
   "source": [
    "# Aplicar a todas las entrevistas\n",
    "all_rocchio_scores = []\n",
    "all_rocchio_top = []\n",
    "\n",
    "for query in df_testimonios[\"contenido_texto\"]:\n",
    "    q_vec = tfidf.transform([query])\n",
    "\n",
    "    # Nota: si no defines relevantes/no relevantes, usamos solo q0 (consulta original)\n",
    "    q_new = rocchio(q_vec, tfs, relevant_idx=[], nonrelevant_idx=[])\n",
    "\n",
    "    # Similitud coseno entre la nueva consulta y todo libro\n",
    "    scores = cosine_similarity(q_new, tfs)[0]\n",
    "    all_rocchio_scores.append(scores)\n",
    "\n",
    "    # Top-5 documentos más similares\n",
    "    top5 = sorted(enumerate(scores), key=lambda x: x[1], reverse=True)[:5]\n",
    "    all_rocchio_top.append(top5)\n",
    "\n",
    "df_testimonios[\"rocchio\"] = all_rocchio_scores\n",
    "df_testimonios[\"rocchio_top\"] = all_rocchio_top\n"
   ]
  },
  {
   "cell_type": "code",
   "execution_count": null,
   "id": "c6fc02c8",
   "metadata": {},
   "outputs": [],
   "source": [
    "df_testimonios[\"rocchio\"].iloc[0]"
   ]
  },
  {
   "cell_type": "code",
   "execution_count": null,
   "id": "6e8abe41",
   "metadata": {},
   "outputs": [],
   "source": [
    "df_testimonios[\"rocchio_top\"].iloc[0]"
   ]
  },
  {
   "cell_type": "code",
   "execution_count": null,
   "id": "6e01aaf0",
   "metadata": {},
   "outputs": [],
   "source": [
    "df_testimonios[\"rocchio_top\"]"
   ]
  },
  {
   "cell_type": "markdown",
   "id": "2b9b5848",
   "metadata": {},
   "source": [
    "### Okapi BM25\n",
    "BM25 es un modelo probabilístico basado en frecuencia de términos (no en TF-IDF).\n",
    "Para cada término de la consulta mide qué tan representativo es en el documento, ajustando por:\n",
    "\n",
    "Longitud del documento (∣𝑑∣): documentos más largos no deben dar ventaja injusta.\n",
    "\n",
    "Frecuencia del término en el documento (𝑓(𝑡,𝑑).\n",
    "\n",
    "IDF (inversa de frecuencia de documento): términos poco frecuentes en la colección tienen más peso.\n",
    "\n",
    "Interpretación:\n",
    "\n",
    "* Si un término aparece mucho en un documento, la relevancia aumenta pero se\n",
    "satura (no crece infinito).\n",
    "* Documentos largos se penalizan ligeramente.\n",
    "* Palabras raras en la colección (alto IDF) pesan más."
   ]
  },
  {
   "cell_type": "code",
   "execution_count": null,
   "id": "039a51ee",
   "metadata": {},
   "outputs": [],
   "source": [
    "import math\n",
    "\n",
    "def compute_idf(corpus_tokens):\n",
    "    \"\"\"\n",
    "    Calcula los valores IDF para cada término del corpus.\n",
    "    corpus_tokens: lista de listas de palabras por documento\n",
    "    \"\"\"\n",
    "    N = len(corpus_tokens)\n",
    "    df = {}\n",
    "    for doc in corpus_tokens:\n",
    "        for term in set(doc):  # contamos solo 1 vez por doc\n",
    "            df[term] = df.get(term, 0) + 1\n",
    "    idf = {term: math.log((N - df[term] + 0.5) / (df[term] + 0.5) + 1) for term in df}\n",
    "    return idf\n",
    "\n",
    "def bm25_score(query_tokens, doc_tokens, idf, avgdl, k1=1.5, b=0.75):\n",
    "    \"\"\"\n",
    "    Calcula BM25 entre una consulta y un documento.\n",
    "    \"\"\"\n",
    "    score = 0.0\n",
    "    doc_len = len(doc_tokens)\n",
    "\n",
    "    # frecuencias de términos en el documento\n",
    "    freqs = {}\n",
    "    for term in doc_tokens:\n",
    "        freqs[term] = freqs.get(term, 0) + 1\n",
    "\n",
    "    for term in query_tokens:\n",
    "        if term not in idf:\n",
    "            continue\n",
    "        f = freqs.get(term, 0)\n",
    "        if f == 0:\n",
    "            continue\n",
    "        denom = f + k1 * (1 - b + b * doc_len / avgdl)\n",
    "        score += idf[term] * (f * (k1 + 1)) / denom\n",
    "    return score\n",
    "\n",
    "def bm25_pipeline(corpus_tokens, query_tokens, k1=1.5, b=0.75):\n",
    "    \"\"\"\n",
    "    Calcula BM25 de una consulta contra todo el corpus.\n",
    "    \"\"\"\n",
    "    idf = compute_idf(corpus_tokens)\n",
    "    avgdl = sum(len(doc) for doc in corpus_tokens) / len(corpus_tokens)\n",
    "\n",
    "    scores = [bm25_score(query_tokens, doc, idf, avgdl, k1, b) for doc in corpus_tokens]\n",
    "    return scores"
   ]
  },
  {
   "cell_type": "code",
   "execution_count": null,
   "id": "fb27e8dd",
   "metadata": {},
   "outputs": [],
   "source": [
    "# Para LIBRO\n",
    "df_libro[\"contenido_tokens\"] = df_libro[\"contenido_preprocesado\"].apply(\n",
    "    lambda row: [word for phrase in row for word in phrase]\n",
    ")\n",
    "\n",
    "# Para ENTREVISTAS\n",
    "df_testimonios[\"contenido_tokens\"] = df_testimonios[\"contenido_preprocesado\"].apply(\n",
    "    lambda row: [word for phrase in row for word in phrase]\n",
    ")\n",
    "\n",
    "all_bm25_scores = []\n",
    "all_bm25_top = []\n",
    "\n",
    "idf = compute_idf(df_libro[\"contenido_tokens\"])\n",
    "avgdl = sum(len(doc) for doc in df_libro[\"contenido_tokens\"]) / len(df_libro[\"contenido_tokens\"])\n",
    "\n",
    "for query in df_testimonios[\"contenido_tokens\"]:\n",
    "    scores = [bm25_score(query, doc, idf, avgdl) for doc in df_libro[\"contenido_tokens\"]]\n",
    "    all_bm25_scores.append(scores)\n",
    "\n",
    "    top5 = sorted(enumerate(scores), key=lambda x: x[1], reverse=True)[:5]\n",
    "    all_bm25_top.append(top5)\n",
    "\n",
    "df_testimonios[\"bm25\"] = all_bm25_scores\n",
    "df_testimonios[\"bm25_top\"] = all_bm25_top"
   ]
  },
  {
   "cell_type": "code",
   "execution_count": null,
   "id": "c43278c9",
   "metadata": {},
   "outputs": [],
   "source": [
    "df_testimonios[\"bm25_top\"].iloc[0]"
   ]
  },
  {
   "cell_type": "markdown",
   "id": "59aa04ca",
   "metadata": {},
   "source": [
    "## 5 Comparacion corpus\n",
    "\n",
    "Diferencias en escala\n",
    "\n",
    "1.  TF-IDF + Cosine / Rocchio\n",
    "\n",
    "* El cosine_similarity siempre devuelve valores en el rango [0, 1].\n",
    "\n",
    "* 1 = vectores idénticos, 0 = no comparten nada.\n",
    "\n",
    "* Es una métrica normalizada → siempre acotada.\n",
    "\n",
    "2.  BM25\n",
    "\n",
    "* Los valores no están normalizados.\n",
    "\n",
    "* Cada término contribuye al score de manera acumulativa.\n",
    "\n",
    "* Cuantos más términos de la consulta aparecen en el documento (y con alta frecuencia), más grande el score.\n",
    "\n",
    "* Escala depende de:\n",
    "\n",
    "  *  Tamaño de la consulta (más palabras → score más alto).\n",
    "\n",
    "  * Frecuencias de los términos.\n",
    "\n",
    "  * Valores de los hiperparámetros\n",
    "  \n",
    "* No tiene un límite superior fijo: 5, 10, 20 o más son posibles."
   ]
  },
  {
   "cell_type": "code",
   "execution_count": null,
   "id": "cec15097",
   "metadata": {},
   "outputs": [],
   "source": [
    "def extract_doc_ids(column):\n",
    "    return [doc_id for row in df_testimonios[column] for doc_id, score in row]\n",
    "\n",
    "# Listas con los doc_ids que aparecen en Top-5\n",
    "cosine_docs = extract_doc_ids(\"top_matches\")\n",
    "rocchio_docs = extract_doc_ids(\"rocchio_top\")\n",
    "bm25_docs   = extract_doc_ids(\"bm25_top\")"
   ]
  },
  {
   "cell_type": "code",
   "execution_count": null,
   "id": "94e51f98",
   "metadata": {},
   "outputs": [],
   "source": [
    "import matplotlib.pyplot as plt\n",
    "\n",
    "plt.figure(figsize=(15,5))\n",
    "\n",
    "# --- TF-IDF + Cosine ---\n",
    "plt.subplot(1,3,1)\n",
    "plt.hist(cosine_docs, bins=range(len(df_libro)+1), edgecolor=\"black\")\n",
    "plt.title(\"TF-IDF + Cosine\")\n",
    "plt.xlabel(\"Doc ID en libro\")\n",
    "plt.ylabel(\"Frecuencia en Top-5\")\n",
    "\n",
    "# --- Rocchio ---\n",
    "plt.subplot(1,3,2)\n",
    "plt.hist(rocchio_docs, bins=range(len(df_libro)+1), edgecolor=\"black\", color=\"orange\")\n",
    "plt.title(\"Rocchio + Cosine\")\n",
    "plt.xlabel(\"Doc ID en libro\")\n",
    "\n",
    "# --- BM25 ---\n",
    "plt.subplot(1,3,3)\n",
    "plt.hist(bm25_docs, bins=range(len(df_libro)+1), edgecolor=\"black\", color=\"green\")\n",
    "plt.title(\"BM25\")\n",
    "plt.xlabel(\"Doc ID en libro\")\n",
    "\n",
    "plt.tight_layout()\n",
    "plt.show()\n"
   ]
  },
  {
   "cell_type": "code",
   "execution_count": null,
   "id": "4828d5fd",
   "metadata": {},
   "outputs": [],
   "source": [
    "def build_top5_matrix(df, column_name, n_docs):\n",
    "    \"\"\"\n",
    "    Construye una matriz (entrevistas x documentos) con los scores de los top-5.\n",
    "    df: DataFrame de entrevistas\n",
    "    column_name: \"top_matches\", \"rocchio_top\" o \"bm25_top\"\n",
    "    n_docs: número de documentos en libro\n",
    "    \"\"\"\n",
    "    matrix = np.zeros((len(df), n_docs))\n",
    "    for i, row in enumerate(df[column_name]):\n",
    "        for doc_id, score in row:\n",
    "            matrix[i, doc_id] = score\n",
    "    return pd.DataFrame(matrix, index=[f\"E{i}\" for i in range(len(df))],\n",
    "                        columns=[f\"S{j}\" for j in range(n_docs)])\n"
   ]
  },
  {
   "cell_type": "code",
   "execution_count": null,
   "id": "78def438",
   "metadata": {},
   "outputs": [],
   "source": [
    "cosine_matrix = build_top5_matrix(df_testimonios, \"top_matches\", len(df_libro))\n",
    "rocchio_matrix = build_top5_matrix(df_testimonios, \"rocchio_top\", len(df_libro))\n",
    "bm25_matrix = build_top5_matrix(df_testimonios, \"bm25_top\", len(df_libro))\n",
    "\n",
    "# Ejemplo para Cosine\n",
    "plt.figure(figsize=(12,6))\n",
    "sns.heatmap(cosine_matrix, cmap=\"YlOrRd\", annot=False, cbar=True)\n",
    "plt.title(\"Heatmap Top-5 TF-IDF + Cosine\")\n",
    "plt.xlabel(\"Secciones en libro\")\n",
    "plt.ylabel(\"Entrevistas\")\n",
    "plt.show()\n",
    "\n",
    "# Construir matriz para Rocchio\n",
    "bm25_matrix = build_top5_matrix(df_testimonios, \"bm25_top\", len(df_libro))\n",
    "\n",
    "plt.figure(figsize=(12,6))\n",
    "sns.heatmap(rocchio_matrix, cmap=\"YlGnBu\", annot=False, cbar=True)\n",
    "plt.title(\"Heatmap Top-5 BM25 (Entrevistas x Seccion)\")\n",
    "plt.xlabel(\"Secciones en libro\")\n",
    "plt.ylabel(\"Entrevistas\")\n",
    "plt.show()\n",
    "\n",
    "# Construir matriz para BM25\n",
    "bm25_matrix = build_top5_matrix(df_testimonios, \"bm25_top\", len(df_libro))\n",
    "\n",
    "plt.figure(figsize=(12,6))\n",
    "sns.heatmap(bm25_matrix, cmap=\"YlGnBu\", annot=False, cbar=True)\n",
    "plt.title(\"Heatmap Top-5 BM25 (Entrevistas x Seccion)\")\n",
    "plt.xlabel(\"Secciones en libro\")\n",
    "plt.ylabel(\"Entrevistas\")\n",
    "plt.show()\n"
   ]
  },
  {
   "cell_type": "code",
   "execution_count": null,
   "id": "42a9bb80",
   "metadata": {},
   "outputs": [],
   "source": [
    "from sklearn.preprocessing import minmax_scale\n",
    "\n",
    "# Normalizamos la matriz BM25 fila por fila (cada query)\n",
    "bm25_matrix_norm = bm25_matrix.apply(lambda row: minmax_scale(row), axis=1, result_type=\"expand\")\n",
    "\n",
    "sns.heatmap(bm25_matrix_norm, cmap=\"YlGnBu\")\n",
    "plt.title(\"Heatmap BM25 (normalizado 0-1 por consulta)\")\n",
    "plt.show()"
   ]
  },
  {
   "cell_type": "code",
   "execution_count": null,
   "id": "ed4b2d5a",
   "metadata": {},
   "outputs": [],
   "source": [
    "import numpy as np\n",
    "import pandas as pd\n",
    "\n",
    "def build_top5_count_matrix(df, column_name, n_docs):\n",
    "    \"\"\"\n",
    "    Construye una matriz (entrevistas x documentos) con la frecuencia de aparición en Top-5.\n",
    "    df: DataFrame de entrevistas\n",
    "    column_name: \"top_matches\", \"rocchio_top\" o \"bm25_top\"\n",
    "    n_docs: número de documentos en libro\n",
    "    \"\"\"\n",
    "    matrix = np.zeros((len(df), n_docs))\n",
    "    for i, row in enumerate(df[column_name]):\n",
    "        for doc_id, _ in row:   # ignoramos score, solo doc_id\n",
    "            matrix[i, doc_id] += 1\n",
    "    return pd.DataFrame(matrix, index=[f\"E{i}\" for i in range(len(df))],\n",
    "                        columns=[f\"S{j}\" for j in range(n_docs)])\n"
   ]
  },
  {
   "cell_type": "code",
   "execution_count": null,
   "id": "7286951e",
   "metadata": {},
   "outputs": [],
   "source": [
    "cosine_count = build_top5_count_matrix(df_testimonios, \"top_matches\", len(df_libro))\n",
    "rocchio_count = build_top5_count_matrix(df_testimonios, \"rocchio_top\", len(df_libro))\n",
    "bm25_count   = build_top5_count_matrix(df_testimonios, \"bm25_top\", len(df_libro))"
   ]
  },
  {
   "cell_type": "code",
   "execution_count": null,
   "id": "69f508c9",
   "metadata": {},
   "outputs": [],
   "source": [
    "plt.figure(figsize=(15,12))\n",
    "\n",
    "# --- TF-IDF + Cosine ---\n",
    "plt.subplot(3,1,1)\n",
    "sns.heatmap(cosine_count, cmap=\"Blues\", cbar=True, annot=False)\n",
    "plt.title(\"Heatmap de frecuencias en Top-5 (TF-IDF + Cosine)\")\n",
    "plt.xlabel(\"Secciones en libro\")\n",
    "plt.ylabel(\"Entrevistas\")\n",
    "\n",
    "# --- Rocchio ---\n",
    "plt.subplot(3,1,2)\n",
    "sns.heatmap(rocchio_count, cmap=\"Oranges\", cbar=True, annot=False)\n",
    "plt.title(\"Heatmap de frecuencias en Top-5 (Rocchio)\")\n",
    "plt.xlabel(\"Secciones en libro\")\n",
    "plt.ylabel(\"Entrevistas\")\n",
    "\n",
    "# --- BM25 ---\n",
    "plt.subplot(3,1,3)\n",
    "sns.heatmap(bm25_count, cmap=\"Greens\", cbar=True, annot=False)\n",
    "plt.title(\"Heatmap de frecuencias en Top-5 (BM25)\")\n",
    "plt.xlabel(\"Secciones en libro\")\n",
    "plt.ylabel(\"Entrevistas\")\n",
    "\n",
    "plt.tight_layout()\n",
    "plt.show()\n"
   ]
  },
  {
   "cell_type": "code",
   "execution_count": null,
   "id": "6bb18522",
   "metadata": {},
   "outputs": [],
   "source": [
    "df_libro"
   ]
  }
 ],
 "metadata": {
  "kernelspec": {
   "display_name": "Python 3",
   "language": "python",
   "name": "python3"
  },
  "language_info": {
   "codemirror_mode": {
    "name": "ipython",
    "version": 3
   },
   "file_extension": ".py",
   "mimetype": "text/x-python",
   "name": "python",
   "nbconvert_exporter": "python",
   "pygments_lexer": "ipython3",
   "version": "3.10.6"
  }
 },
 "nbformat": 4,
 "nbformat_minor": 5
}
